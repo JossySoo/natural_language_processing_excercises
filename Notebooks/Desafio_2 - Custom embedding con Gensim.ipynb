{
  "cells": [
    {
      "cell_type": "markdown",
      "metadata": {
        "id": "view-in-github",
        "colab_type": "text"
      },
      "source": [
        "<a href=\"https://colab.research.google.com/github/JossySoo/natural_language_processing_excercises/blob/main/Notebooks/Desafio_2%20-%20Custom%20embedding%20con%20Gensim.ipynb\" target=\"_parent\"><img src=\"https://colab.research.google.com/assets/colab-badge.svg\" alt=\"Open In Colab\"/></a>"
      ]
    },
    {
      "cell_type": "markdown",
      "metadata": {
        "id": "sZd5yLnnHOK0"
      },
      "source": [
        "<img src=\"https://github.com/hernancontigiani/ceia_memorias_especializacion/raw/master/Figures/logoFIUBA.jpg\" width=\"500\" align=\"center\">\n",
        "\n",
        "\n",
        "# Procesamiento de lenguaje natural\n",
        "## Custom embedddings con Gensim\n",
        "\n"
      ]
    },
    {
      "cell_type": "markdown",
      "metadata": {
        "id": "vA7nqkumo9z9"
      },
      "source": [
        "### Objetivo\n",
        "El objetivo es utilizar documentos / corpus para crear embeddings de palabras basado en ese contexto. Se utilizará canciones de bandas para generar los embeddings, es decir, que los vectores tendrán la forma en función de como esa banda haya utilizado las palabras en sus canciones."
      ]
    },
    {
      "cell_type": "code",
      "execution_count": 1,
      "metadata": {
        "id": "lFToQs5FK5uZ"
      },
      "outputs": [],
      "source": [
        "import pandas as pd\n",
        "import matplotlib.pyplot as plt\n",
        "import seaborn as sns\n",
        "\n",
        "import multiprocessing\n",
        "from gensim.models import Word2Vec"
      ]
    },
    {
      "cell_type": "markdown",
      "metadata": {
        "id": "g07zJxG7H9vG"
      },
      "source": [
        "### Datos\n",
        "Utilizaremos como dataset canciones de bandas de habla inglesa."
      ]
    },
    {
      "cell_type": "code",
      "execution_count": 2,
      "metadata": {
        "id": "l7z4CSBfpR3X",
        "outputId": "0b048925-490f-45c2-e07d-0919c2acddea",
        "colab": {
          "base_uri": "https://localhost:8080/"
        }
      },
      "outputs": [
        {
          "output_type": "stream",
          "name": "stdout",
          "text": [
            "--2024-05-24 22:08:54--  http://songs_dataset.zip/\n",
            "Resolving songs_dataset.zip (songs_dataset.zip)... failed: Name or service not known.\n",
            "wget: unable to resolve host address ‘songs_dataset.zip’\n",
            "--2024-05-24 22:08:54--  https://github.com/FIUBA-Posgrado-Inteligencia-Artificial/procesamiento_lenguaje_natural/raw/main/datasets/songs_dataset.zip\n",
            "Resolving github.com (github.com)... 20.27.177.113\n",
            "Connecting to github.com (github.com)|20.27.177.113|:443... connected.\n",
            "HTTP request sent, awaiting response... 302 Found\n",
            "Location: https://raw.githubusercontent.com/FIUBA-Posgrado-Inteligencia-Artificial/procesamiento_lenguaje_natural/main/datasets/songs_dataset.zip [following]\n",
            "--2024-05-24 22:08:55--  https://raw.githubusercontent.com/FIUBA-Posgrado-Inteligencia-Artificial/procesamiento_lenguaje_natural/main/datasets/songs_dataset.zip\n",
            "Resolving raw.githubusercontent.com (raw.githubusercontent.com)... 185.199.110.133, 185.199.108.133, 185.199.111.133, ...\n",
            "Connecting to raw.githubusercontent.com (raw.githubusercontent.com)|185.199.110.133|:443... connected.\n",
            "HTTP request sent, awaiting response... 200 OK\n",
            "Length: 2075036 (2.0M) [application/zip]\n",
            "Saving to: ‘songs_dataset.zip’\n",
            "\n",
            "songs_dataset.zip   100%[===================>]   1.98M  8.19MB/s    in 0.2s    \n",
            "\n",
            "2024-05-24 22:08:57 (8.19 MB/s) - ‘songs_dataset.zip’ saved [2075036/2075036]\n",
            "\n",
            "FINISHED --2024-05-24 22:08:57--\n",
            "Total wall clock time: 2.5s\n",
            "Downloaded: 1 files, 2.0M in 0.2s (8.19 MB/s)\n"
          ]
        }
      ],
      "source": [
        "# Descargar la carpeta de dataset\n",
        "import os\n",
        "import platform\n",
        "if os.access('./songs_dataset', os.F_OK) is False:\n",
        "    if os.access('songs_dataset.zip', os.F_OK) is False:\n",
        "        if platform.system() == 'Windows':\n",
        "            !curl https://raw.githubusercontent.com/FIUBA-Posgrado-Inteligencia-Artificial/procesamiento_lenguaje_natural/main/datasets/songs_dataset.zip -o songs_dataset.zip\n",
        "        else:\n",
        "            !wget songs_dataset.zip https://github.com/FIUBA-Posgrado-Inteligencia-Artificial/procesamiento_lenguaje_natural/raw/main/datasets/songs_dataset.zip\n",
        "    !unzip -q songs_dataset.zip\n",
        "else:\n",
        "    print(\"El dataset ya se encuentra descargado\")"
      ]
    },
    {
      "cell_type": "code",
      "execution_count": 3,
      "metadata": {
        "id": "mysGrIw9ljC2",
        "outputId": "b850abf2-dc53-40a9-8c06-c00e3bfd1f1d",
        "colab": {
          "base_uri": "https://localhost:8080/"
        }
      },
      "outputs": [
        {
          "output_type": "execute_result",
          "data": {
            "text/plain": [
              "['nicki-minaj.txt',\n",
              " 'radiohead.txt',\n",
              " 'bruno-mars.txt',\n",
              " 'Lil_Wayne.txt',\n",
              " 'jimi-hendrix.txt',\n",
              " 'lady-gaga.txt',\n",
              " 'disney.txt',\n",
              " 'al-green.txt',\n",
              " 'dr-seuss.txt',\n",
              " 'alicia-keys.txt',\n",
              " 'beatles.txt',\n",
              " 'bob-marley.txt',\n",
              " 'leonard-cohen.txt',\n",
              " 'adele.txt',\n",
              " 'patti-smith.txt',\n",
              " 'bjork.txt',\n",
              " 'blink-182.txt',\n",
              " 'kanye.txt',\n",
              " 'johnny-cash.txt',\n",
              " 'dickinson.txt',\n",
              " 'cake.txt',\n",
              " 'michael-jackson.txt',\n",
              " 'lil-wayne.txt',\n",
              " 'notorious_big.txt',\n",
              " 'Kanye_West.txt',\n",
              " 'britney-spears.txt',\n",
              " 'lin-manuel-miranda.txt',\n",
              " 'kanye-west.txt',\n",
              " 'notorious-big.txt',\n",
              " 'r-kelly.txt',\n",
              " 'missy-elliott.txt',\n",
              " 'paul-simon.txt',\n",
              " 'bruce-springsteen.txt',\n",
              " 'joni-mitchell.txt',\n",
              " 'prince.txt',\n",
              " 'eminem.txt',\n",
              " 'dj-khaled.txt',\n",
              " 'bob-dylan.txt',\n",
              " 'nirvana.txt',\n",
              " 'lorde.txt',\n",
              " 'nursery_rhymes.txt',\n",
              " 'bieber.txt',\n",
              " 'nickelback.txt',\n",
              " 'amy-winehouse.txt',\n",
              " 'rihanna.txt',\n",
              " 'janisjoplin.txt',\n",
              " 'ludacris.txt',\n",
              " 'drake.txt',\n",
              " 'dolly-parton.txt']"
            ]
          },
          "metadata": {},
          "execution_count": 3
        }
      ],
      "source": [
        "# Posibles bandas\n",
        "os.listdir(\"./songs_dataset/\")"
      ]
    },
    {
      "cell_type": "code",
      "execution_count": 4,
      "metadata": {
        "id": "ticoqYD1Z3I7",
        "outputId": "e57110b0-ca04-4b57-8b0b-459f73e8b845",
        "colab": {
          "base_uri": "https://localhost:8080/",
          "height": 0
        }
      },
      "outputs": [
        {
          "output_type": "stream",
          "name": "stderr",
          "text": [
            "<ipython-input-4-91c4bad52ba1>:2: ParserWarning: Falling back to the 'python' engine because the 'c' engine does not support regex separators (separators > 1 char and different from '\\s+' are interpreted as regex); you can avoid this warning by specifying engine='python'.\n",
            "  df = pd.read_csv('songs_dataset/beatles.txt', sep='/n', header=None)\n"
          ]
        },
        {
          "output_type": "execute_result",
          "data": {
            "text/plain": [
              "                                                   0\n",
              "0      Yesterday, all my troubles seemed so far away\n",
              "1        Now it looks as though they're here to stay\n",
              "2  Oh, I believe in yesterday Suddenly, I'm not h...\n",
              "3                  There's a shadow hanging over me.\n",
              "4  Oh, yesterday came suddenly Why she had to go ..."
            ],
            "text/html": [
              "\n",
              "  <div id=\"df-38dd8ae7-d419-4fc6-b0b9-e049d9ae5765\" class=\"colab-df-container\">\n",
              "    <div>\n",
              "<style scoped>\n",
              "    .dataframe tbody tr th:only-of-type {\n",
              "        vertical-align: middle;\n",
              "    }\n",
              "\n",
              "    .dataframe tbody tr th {\n",
              "        vertical-align: top;\n",
              "    }\n",
              "\n",
              "    .dataframe thead th {\n",
              "        text-align: right;\n",
              "    }\n",
              "</style>\n",
              "<table border=\"1\" class=\"dataframe\">\n",
              "  <thead>\n",
              "    <tr style=\"text-align: right;\">\n",
              "      <th></th>\n",
              "      <th>0</th>\n",
              "    </tr>\n",
              "  </thead>\n",
              "  <tbody>\n",
              "    <tr>\n",
              "      <th>0</th>\n",
              "      <td>Yesterday, all my troubles seemed so far away</td>\n",
              "    </tr>\n",
              "    <tr>\n",
              "      <th>1</th>\n",
              "      <td>Now it looks as though they're here to stay</td>\n",
              "    </tr>\n",
              "    <tr>\n",
              "      <th>2</th>\n",
              "      <td>Oh, I believe in yesterday Suddenly, I'm not h...</td>\n",
              "    </tr>\n",
              "    <tr>\n",
              "      <th>3</th>\n",
              "      <td>There's a shadow hanging over me.</td>\n",
              "    </tr>\n",
              "    <tr>\n",
              "      <th>4</th>\n",
              "      <td>Oh, yesterday came suddenly Why she had to go ...</td>\n",
              "    </tr>\n",
              "  </tbody>\n",
              "</table>\n",
              "</div>\n",
              "    <div class=\"colab-df-buttons\">\n",
              "\n",
              "  <div class=\"colab-df-container\">\n",
              "    <button class=\"colab-df-convert\" onclick=\"convertToInteractive('df-38dd8ae7-d419-4fc6-b0b9-e049d9ae5765')\"\n",
              "            title=\"Convert this dataframe to an interactive table.\"\n",
              "            style=\"display:none;\">\n",
              "\n",
              "  <svg xmlns=\"http://www.w3.org/2000/svg\" height=\"24px\" viewBox=\"0 -960 960 960\">\n",
              "    <path d=\"M120-120v-720h720v720H120Zm60-500h600v-160H180v160Zm220 220h160v-160H400v160Zm0 220h160v-160H400v160ZM180-400h160v-160H180v160Zm440 0h160v-160H620v160ZM180-180h160v-160H180v160Zm440 0h160v-160H620v160Z\"/>\n",
              "  </svg>\n",
              "    </button>\n",
              "\n",
              "  <style>\n",
              "    .colab-df-container {\n",
              "      display:flex;\n",
              "      gap: 12px;\n",
              "    }\n",
              "\n",
              "    .colab-df-convert {\n",
              "      background-color: #E8F0FE;\n",
              "      border: none;\n",
              "      border-radius: 50%;\n",
              "      cursor: pointer;\n",
              "      display: none;\n",
              "      fill: #1967D2;\n",
              "      height: 32px;\n",
              "      padding: 0 0 0 0;\n",
              "      width: 32px;\n",
              "    }\n",
              "\n",
              "    .colab-df-convert:hover {\n",
              "      background-color: #E2EBFA;\n",
              "      box-shadow: 0px 1px 2px rgba(60, 64, 67, 0.3), 0px 1px 3px 1px rgba(60, 64, 67, 0.15);\n",
              "      fill: #174EA6;\n",
              "    }\n",
              "\n",
              "    .colab-df-buttons div {\n",
              "      margin-bottom: 4px;\n",
              "    }\n",
              "\n",
              "    [theme=dark] .colab-df-convert {\n",
              "      background-color: #3B4455;\n",
              "      fill: #D2E3FC;\n",
              "    }\n",
              "\n",
              "    [theme=dark] .colab-df-convert:hover {\n",
              "      background-color: #434B5C;\n",
              "      box-shadow: 0px 1px 3px 1px rgba(0, 0, 0, 0.15);\n",
              "      filter: drop-shadow(0px 1px 2px rgba(0, 0, 0, 0.3));\n",
              "      fill: #FFFFFF;\n",
              "    }\n",
              "  </style>\n",
              "\n",
              "    <script>\n",
              "      const buttonEl =\n",
              "        document.querySelector('#df-38dd8ae7-d419-4fc6-b0b9-e049d9ae5765 button.colab-df-convert');\n",
              "      buttonEl.style.display =\n",
              "        google.colab.kernel.accessAllowed ? 'block' : 'none';\n",
              "\n",
              "      async function convertToInteractive(key) {\n",
              "        const element = document.querySelector('#df-38dd8ae7-d419-4fc6-b0b9-e049d9ae5765');\n",
              "        const dataTable =\n",
              "          await google.colab.kernel.invokeFunction('convertToInteractive',\n",
              "                                                    [key], {});\n",
              "        if (!dataTable) return;\n",
              "\n",
              "        const docLinkHtml = 'Like what you see? Visit the ' +\n",
              "          '<a target=\"_blank\" href=https://colab.research.google.com/notebooks/data_table.ipynb>data table notebook</a>'\n",
              "          + ' to learn more about interactive tables.';\n",
              "        element.innerHTML = '';\n",
              "        dataTable['output_type'] = 'display_data';\n",
              "        await google.colab.output.renderOutput(dataTable, element);\n",
              "        const docLink = document.createElement('div');\n",
              "        docLink.innerHTML = docLinkHtml;\n",
              "        element.appendChild(docLink);\n",
              "      }\n",
              "    </script>\n",
              "  </div>\n",
              "\n",
              "\n",
              "<div id=\"df-e140dce2-8e1b-457c-b716-2fe4472c54d9\">\n",
              "  <button class=\"colab-df-quickchart\" onclick=\"quickchart('df-e140dce2-8e1b-457c-b716-2fe4472c54d9')\"\n",
              "            title=\"Suggest charts\"\n",
              "            style=\"display:none;\">\n",
              "\n",
              "<svg xmlns=\"http://www.w3.org/2000/svg\" height=\"24px\"viewBox=\"0 0 24 24\"\n",
              "     width=\"24px\">\n",
              "    <g>\n",
              "        <path d=\"M19 3H5c-1.1 0-2 .9-2 2v14c0 1.1.9 2 2 2h14c1.1 0 2-.9 2-2V5c0-1.1-.9-2-2-2zM9 17H7v-7h2v7zm4 0h-2V7h2v10zm4 0h-2v-4h2v4z\"/>\n",
              "    </g>\n",
              "</svg>\n",
              "  </button>\n",
              "\n",
              "<style>\n",
              "  .colab-df-quickchart {\n",
              "      --bg-color: #E8F0FE;\n",
              "      --fill-color: #1967D2;\n",
              "      --hover-bg-color: #E2EBFA;\n",
              "      --hover-fill-color: #174EA6;\n",
              "      --disabled-fill-color: #AAA;\n",
              "      --disabled-bg-color: #DDD;\n",
              "  }\n",
              "\n",
              "  [theme=dark] .colab-df-quickchart {\n",
              "      --bg-color: #3B4455;\n",
              "      --fill-color: #D2E3FC;\n",
              "      --hover-bg-color: #434B5C;\n",
              "      --hover-fill-color: #FFFFFF;\n",
              "      --disabled-bg-color: #3B4455;\n",
              "      --disabled-fill-color: #666;\n",
              "  }\n",
              "\n",
              "  .colab-df-quickchart {\n",
              "    background-color: var(--bg-color);\n",
              "    border: none;\n",
              "    border-radius: 50%;\n",
              "    cursor: pointer;\n",
              "    display: none;\n",
              "    fill: var(--fill-color);\n",
              "    height: 32px;\n",
              "    padding: 0;\n",
              "    width: 32px;\n",
              "  }\n",
              "\n",
              "  .colab-df-quickchart:hover {\n",
              "    background-color: var(--hover-bg-color);\n",
              "    box-shadow: 0 1px 2px rgba(60, 64, 67, 0.3), 0 1px 3px 1px rgba(60, 64, 67, 0.15);\n",
              "    fill: var(--button-hover-fill-color);\n",
              "  }\n",
              "\n",
              "  .colab-df-quickchart-complete:disabled,\n",
              "  .colab-df-quickchart-complete:disabled:hover {\n",
              "    background-color: var(--disabled-bg-color);\n",
              "    fill: var(--disabled-fill-color);\n",
              "    box-shadow: none;\n",
              "  }\n",
              "\n",
              "  .colab-df-spinner {\n",
              "    border: 2px solid var(--fill-color);\n",
              "    border-color: transparent;\n",
              "    border-bottom-color: var(--fill-color);\n",
              "    animation:\n",
              "      spin 1s steps(1) infinite;\n",
              "  }\n",
              "\n",
              "  @keyframes spin {\n",
              "    0% {\n",
              "      border-color: transparent;\n",
              "      border-bottom-color: var(--fill-color);\n",
              "      border-left-color: var(--fill-color);\n",
              "    }\n",
              "    20% {\n",
              "      border-color: transparent;\n",
              "      border-left-color: var(--fill-color);\n",
              "      border-top-color: var(--fill-color);\n",
              "    }\n",
              "    30% {\n",
              "      border-color: transparent;\n",
              "      border-left-color: var(--fill-color);\n",
              "      border-top-color: var(--fill-color);\n",
              "      border-right-color: var(--fill-color);\n",
              "    }\n",
              "    40% {\n",
              "      border-color: transparent;\n",
              "      border-right-color: var(--fill-color);\n",
              "      border-top-color: var(--fill-color);\n",
              "    }\n",
              "    60% {\n",
              "      border-color: transparent;\n",
              "      border-right-color: var(--fill-color);\n",
              "    }\n",
              "    80% {\n",
              "      border-color: transparent;\n",
              "      border-right-color: var(--fill-color);\n",
              "      border-bottom-color: var(--fill-color);\n",
              "    }\n",
              "    90% {\n",
              "      border-color: transparent;\n",
              "      border-bottom-color: var(--fill-color);\n",
              "    }\n",
              "  }\n",
              "</style>\n",
              "\n",
              "  <script>\n",
              "    async function quickchart(key) {\n",
              "      const quickchartButtonEl =\n",
              "        document.querySelector('#' + key + ' button');\n",
              "      quickchartButtonEl.disabled = true;  // To prevent multiple clicks.\n",
              "      quickchartButtonEl.classList.add('colab-df-spinner');\n",
              "      try {\n",
              "        const charts = await google.colab.kernel.invokeFunction(\n",
              "            'suggestCharts', [key], {});\n",
              "      } catch (error) {\n",
              "        console.error('Error during call to suggestCharts:', error);\n",
              "      }\n",
              "      quickchartButtonEl.classList.remove('colab-df-spinner');\n",
              "      quickchartButtonEl.classList.add('colab-df-quickchart-complete');\n",
              "    }\n",
              "    (() => {\n",
              "      let quickchartButtonEl =\n",
              "        document.querySelector('#df-e140dce2-8e1b-457c-b716-2fe4472c54d9 button');\n",
              "      quickchartButtonEl.style.display =\n",
              "        google.colab.kernel.accessAllowed ? 'block' : 'none';\n",
              "    })();\n",
              "  </script>\n",
              "</div>\n",
              "\n",
              "    </div>\n",
              "  </div>\n"
            ],
            "application/vnd.google.colaboratory.intrinsic+json": {
              "type": "dataframe",
              "variable_name": "df",
              "summary": "{\n  \"name\": \"df\",\n  \"rows\": 1846,\n  \"fields\": [\n    {\n      \"column\": 0,\n      \"properties\": {\n        \"dtype\": \"string\",\n        \"num_unique_values\": 1380,\n        \"samples\": [\n          \"I just need someone to love\",\n          \"Well it's my birthday too--yeah\",\n          \"Yes, you can radiate everything you are\"\n        ],\n        \"semantic_type\": \"\",\n        \"description\": \"\"\n      }\n    }\n  ]\n}"
            }
          },
          "metadata": {},
          "execution_count": 4
        }
      ],
      "source": [
        "# Armar el dataset utilizando salto de línea para separar las oraciones/docs\n",
        "df = pd.read_csv('songs_dataset/beatles.txt', sep='/n', header=None)\n",
        "df.head()"
      ]
    },
    {
      "cell_type": "code",
      "execution_count": 5,
      "metadata": {
        "id": "LEpKubK9XzXN",
        "outputId": "f9f1194b-96cd-4fdd-aa12-c16a82e721bd",
        "colab": {
          "base_uri": "https://localhost:8080/"
        }
      },
      "outputs": [
        {
          "output_type": "stream",
          "name": "stdout",
          "text": [
            "Cantidad de documentos: 1846\n"
          ]
        }
      ],
      "source": [
        "print(\"Cantidad de documentos:\", df.shape[0])"
      ]
    },
    {
      "cell_type": "markdown",
      "metadata": {
        "id": "ab94qaFlrA1G"
      },
      "source": [
        "### 1 - Preprocesamiento"
      ]
    },
    {
      "cell_type": "code",
      "execution_count": 6,
      "metadata": {
        "id": "rIsmMWmjrDHd"
      },
      "outputs": [],
      "source": [
        "from keras.preprocessing.text import text_to_word_sequence\n",
        "\n",
        "sentence_tokens = []\n",
        "# Recorrer todas las filas y transformar las oraciones\n",
        "# en una secuencia de palabras (esto podría realizarse con NLTK o spaCy también)\n",
        "for _, row in df[:None].iterrows():\n",
        "    sentence_tokens.append(text_to_word_sequence(row[0]))"
      ]
    },
    {
      "cell_type": "code",
      "execution_count": 7,
      "metadata": {
        "id": "CHepi_DGrbhq",
        "outputId": "02c65473-014c-4b38-947a-08b543af1040",
        "colab": {
          "base_uri": "https://localhost:8080/"
        }
      },
      "outputs": [
        {
          "output_type": "execute_result",
          "data": {
            "text/plain": [
              "[['yesterday', 'all', 'my', 'troubles', 'seemed', 'so', 'far', 'away'],\n",
              " ['now', 'it', 'looks', 'as', 'though', \"they're\", 'here', 'to', 'stay']]"
            ]
          },
          "metadata": {},
          "execution_count": 7
        }
      ],
      "source": [
        "# Demos un vistazo\n",
        "sentence_tokens[:2]"
      ]
    },
    {
      "cell_type": "markdown",
      "metadata": {
        "id": "BaXV6nlHr5Aa"
      },
      "source": [
        "### 2 - Crear los vectores (word2vec)"
      ]
    },
    {
      "cell_type": "code",
      "execution_count": 8,
      "metadata": {
        "id": "OSb0v7h8r7hK"
      },
      "outputs": [],
      "source": [
        "from gensim.models.callbacks import CallbackAny2Vec\n",
        "# Durante el entrenamiento gensim por defecto no informa el \"loss\" en cada época\n",
        "# Sobrecargamos el callback para poder tener esta información\n",
        "class callback(CallbackAny2Vec):\n",
        "    \"\"\"\n",
        "    Callback to print loss after each epoch\n",
        "    \"\"\"\n",
        "    def __init__(self):\n",
        "        self.epoch = 0\n",
        "\n",
        "    def on_epoch_end(self, model):\n",
        "        loss = model.get_latest_training_loss()\n",
        "        if self.epoch == 0:\n",
        "            print('Loss after epoch {}: {}'.format(self.epoch, loss))\n",
        "        else:\n",
        "            print('Loss after epoch {}: {}'.format(self.epoch, loss- self.loss_previous_step))\n",
        "        self.epoch += 1\n",
        "        self.loss_previous_step = loss"
      ]
    },
    {
      "cell_type": "code",
      "execution_count": 9,
      "metadata": {
        "id": "i0wnDdv9sJ47"
      },
      "outputs": [],
      "source": [
        "# Crearmos el modelo generador de vectores\n",
        "# En este caso utilizaremos la estructura modelo Skipgram\n",
        "w2v_model = Word2Vec(min_count=5,    # frecuencia mínima de palabra para incluirla en el vocabulario\n",
        "                     window=2,       # cant de palabras antes y desp de la predicha\n",
        "                     vector_size=300,       # dimensionalidad de los vectores\n",
        "                     negative=20,    # cantidad de negative samples... 0 es no se usa\n",
        "                     workers=1,      # si tienen más cores pueden cambiar este valor\n",
        "                     sg=1)           # modelo 0:CBOW  1:skipgram"
      ]
    },
    {
      "cell_type": "code",
      "execution_count": 10,
      "metadata": {
        "id": "5lTt8wErsf17"
      },
      "outputs": [],
      "source": [
        "# Obtener el vocabulario con los tokens\n",
        "w2v_model.build_vocab(sentence_tokens)"
      ]
    },
    {
      "cell_type": "code",
      "execution_count": 11,
      "metadata": {
        "id": "TNc9qt4os5AT",
        "outputId": "c3b4ce50-aae0-40c3-ffae-ee753e7fccfe",
        "colab": {
          "base_uri": "https://localhost:8080/"
        }
      },
      "outputs": [
        {
          "output_type": "stream",
          "name": "stdout",
          "text": [
            "Cantidad de docs en el corpus: 1846\n"
          ]
        }
      ],
      "source": [
        "# Cantidad de filas/docs encontradas en el corpus\n",
        "print(\"Cantidad de docs en el corpus:\", w2v_model.corpus_count)"
      ]
    },
    {
      "cell_type": "code",
      "execution_count": 12,
      "metadata": {
        "id": "idw9cHF3tSMl",
        "outputId": "4f74faa0-31a6-4ca6-fe51-8603c8152ce1",
        "colab": {
          "base_uri": "https://localhost:8080/"
        }
      },
      "outputs": [
        {
          "output_type": "stream",
          "name": "stdout",
          "text": [
            "Cantidad de words distintas en el corpus: 445\n"
          ]
        }
      ],
      "source": [
        "# Cantidad de words encontradas en el corpus\n",
        "print(\"Cantidad de words distintas en el corpus:\", len(w2v_model.wv.index_to_key))"
      ]
    },
    {
      "cell_type": "markdown",
      "metadata": {
        "id": "fC9mZ8DPk-UC"
      },
      "source": [
        "### 3 - Entrenar embeddings"
      ]
    },
    {
      "cell_type": "code",
      "execution_count": 13,
      "metadata": {
        "id": "QSp-x0PAsq56",
        "outputId": "81e58c59-8f55-4868-fae8-22960afa07bb",
        "colab": {
          "base_uri": "https://localhost:8080/"
        }
      },
      "outputs": [
        {
          "output_type": "stream",
          "name": "stdout",
          "text": [
            "Loss after epoch 0: 113208.15625\n",
            "Loss after epoch 1: 65953.953125\n",
            "Loss after epoch 2: 65934.265625\n",
            "Loss after epoch 3: 65711.96875\n",
            "Loss after epoch 4: 63872.5\n",
            "Loss after epoch 5: 64142.46875\n",
            "Loss after epoch 6: 64058.8125\n",
            "Loss after epoch 7: 64755.4375\n",
            "Loss after epoch 8: 62585.5625\n",
            "Loss after epoch 9: 60415.25\n",
            "Loss after epoch 10: 59823.625\n",
            "Loss after epoch 11: 58930.1875\n",
            "Loss after epoch 12: 57726.4375\n",
            "Loss after epoch 13: 56493.125\n",
            "Loss after epoch 14: 55842.5625\n",
            "Loss after epoch 15: 55862.5\n",
            "Loss after epoch 16: 51695.8125\n",
            "Loss after epoch 17: 49815.5\n",
            "Loss after epoch 18: 49568.125\n",
            "Loss after epoch 19: 48959.75\n"
          ]
        },
        {
          "output_type": "execute_result",
          "data": {
            "text/plain": [
              "(156986, 287740)"
            ]
          },
          "metadata": {},
          "execution_count": 13
        }
      ],
      "source": [
        "# Entrenamos el modelo generador de vectores\n",
        "# Utilizamos nuestro callback\n",
        "w2v_model.train(sentence_tokens,\n",
        "                 total_examples=w2v_model.corpus_count,\n",
        "                 epochs=20,\n",
        "                 compute_loss = True,\n",
        "                 callbacks=[callback()]\n",
        "                 )"
      ]
    },
    {
      "cell_type": "markdown",
      "metadata": {
        "id": "ddT9NVuNlCAe"
      },
      "source": [
        "### 4 - Ensayar"
      ]
    },
    {
      "cell_type": "code",
      "execution_count": 14,
      "metadata": {
        "id": "6cHN9xGLuPEm",
        "outputId": "95616dbb-7ce4-4dc5-978a-390de8d18de3",
        "colab": {
          "base_uri": "https://localhost:8080/"
        }
      },
      "outputs": [
        {
          "output_type": "execute_result",
          "data": {
            "text/plain": [
              "[('pretty', 0.9087147116661072),\n",
              " ('sleep', 0.8649678230285645),\n",
              " ('help', 0.8594305515289307),\n",
              " ('try', 0.8456019759178162),\n",
              " ('cry', 0.8387227654457092),\n",
              " ('little', 0.8273633718490601),\n",
              " ('not', 0.8181102871894836),\n",
              " ('seems', 0.8175203204154968),\n",
              " ('twist', 0.8154979348182678),\n",
              " ('peace', 0.812263011932373)]"
            ]
          },
          "metadata": {},
          "execution_count": 14
        }
      ],
      "source": [
        "# Palabras que MÁS se relacionan con...:\n",
        "w2v_model.wv.most_similar(positive=[\"darling\"], topn=10)"
      ]
    },
    {
      "cell_type": "code",
      "execution_count": 15,
      "metadata": {
        "id": "47HiU5gdkdMq",
        "outputId": "1441cbaa-c7e8-4b03-916a-df904d85a40d",
        "colab": {
          "base_uri": "https://localhost:8080/"
        }
      },
      "outputs": [
        {
          "output_type": "execute_result",
          "data": {
            "text/plain": [
              "[('shake', -0.21786975860595703),\n",
              " ('our', -0.24495810270309448),\n",
              " ('come', -0.2613270878791809),\n",
              " ('on', -0.26722386479377747),\n",
              " ('bang', -0.27329546213150024),\n",
              " ('five', -0.2741836607456207),\n",
              " ('six', -0.2774038314819336),\n",
              " ('baby', -0.2776353061199188),\n",
              " ('work', -0.2790372967720032),\n",
              " ('four', -0.2792743146419525)]"
            ]
          },
          "metadata": {},
          "execution_count": 15
        }
      ],
      "source": [
        "# Palabras que MENOS se relacionan con...:\n",
        "w2v_model.wv.most_similar(negative=[\"love\"], topn=10)"
      ]
    },
    {
      "cell_type": "code",
      "execution_count": 16,
      "metadata": {
        "id": "DT4Rvno2mD65",
        "outputId": "56c2e7e6-b555-4406-99f8-a6ead2bfbc2b",
        "colab": {
          "base_uri": "https://localhost:8080/"
        }
      },
      "outputs": [
        {
          "output_type": "execute_result",
          "data": {
            "text/plain": [
              "[('five', 0.9786694049835205),\n",
              " ('three', 0.9761051535606384),\n",
              " ('six', 0.966891348361969),\n",
              " ('two', 0.9565720558166504),\n",
              " ('seven', 0.954232931137085),\n",
              " ('sixty', 0.9003373980522156),\n",
              " ('one', 0.816501259803772),\n",
              " ('us', 0.7762899398803711),\n",
              " ('crying', 0.772737979888916),\n",
              " ('strawberry', 0.7672452330589294)]"
            ]
          },
          "metadata": {},
          "execution_count": 16
        }
      ],
      "source": [
        "# Palabras que MÁS se relacionan con...:\n",
        "w2v_model.wv.most_similar(positive=[\"four\"], topn=10)"
      ]
    },
    {
      "cell_type": "code",
      "execution_count": 17,
      "metadata": {
        "id": "XPLDPgzBmQXt",
        "outputId": "a17b14e8-28fd-4aeb-efac-0f1ae0d96483",
        "colab": {
          "base_uri": "https://localhost:8080/"
        }
      },
      "outputs": [
        {
          "output_type": "execute_result",
          "data": {
            "text/plain": [
              "[(\"can't\", 0.9409592747688293),\n",
              " ('buy', 0.9399508237838745),\n",
              " ('much', 0.8996850848197937),\n",
              " ('hide', 0.8465201258659363),\n",
              " ('just', 0.8415144085884094)]"
            ]
          },
          "metadata": {},
          "execution_count": 17
        }
      ],
      "source": [
        "# Palabras que MÁS se relacionan con...:\n",
        "w2v_model.wv.most_similar(positive=[\"money\"], topn=5)"
      ]
    },
    {
      "cell_type": "code",
      "execution_count": 18,
      "metadata": {
        "id": "L_UvHPMMklOr"
      },
      "outputs": [],
      "source": [
        "# Ensayar con una palabra que no está en el vocabulario:\n",
        "#w2v_model.wv.most_similar(negative=[\"diedaa\"])"
      ]
    },
    {
      "cell_type": "code",
      "execution_count": 19,
      "metadata": {
        "id": "PyVf-ARlA9WZ",
        "outputId": "aa09e9d8-4618-48a1-b98e-8501978cc41b",
        "colab": {
          "base_uri": "https://localhost:8080/"
        }
      },
      "outputs": [
        {
          "output_type": "stream",
          "name": "stdout",
          "text": [
            "[ 0.17736822  0.21460655 -0.05408018  0.06707036  0.13059464 -0.25713933\n",
            "  0.00711611  0.26743424 -0.03100746  0.259963    0.21179457 -0.08465387\n",
            " -0.26272097  0.308386   -0.07934437 -0.13357355  0.2994755   0.18062147\n",
            " -0.13111673 -0.11857472  0.03468326  0.1125607   0.08478875  0.08090881\n",
            " -0.17622267  0.03122034 -0.08725598  0.23746666 -0.11507358 -0.29119617\n",
            " -0.03650665 -0.3322312   0.23262788  0.10366543 -0.18365337  0.08299578\n",
            "  0.14315338 -0.19761457 -0.00757894  0.1119568  -0.10421463 -0.13083619\n",
            " -0.03264419 -0.04687435  0.11330808  0.10231452 -0.16202034 -0.10347028\n",
            "  0.03659901 -0.08524423 -0.34872082 -0.02154255  0.25938764  0.16540806\n",
            "  0.0310861   0.09505633  0.24452917 -0.09859891  0.18298703  0.0645447\n",
            "  0.016967   -0.3259168  -0.04774074 -0.05418535 -0.04338397 -0.09137302\n",
            "  0.00889874  0.11636022 -0.25662988  0.05426472  0.08915784  0.04541444\n",
            "  0.20835714 -0.19101828  0.32210803  0.19337991  0.09080223 -0.00362429\n",
            " -0.18664253 -0.07053486 -0.1213743  -0.03477469 -0.15798187  0.39070287\n",
            " -0.06144987  0.11083187 -0.16213974 -0.24604863  0.15004653  0.41447446\n",
            " -0.02289782 -0.17896852 -0.07827526 -0.22193784  0.02855509  0.48533952\n",
            "  0.04447097  0.12464199 -0.04169935  0.1982593  -0.15919553 -0.08606501\n",
            "  0.1320642   0.07071835  0.30667147  0.08809892 -0.19750106  0.23502588\n",
            " -0.07388738  0.04295443 -0.24779157 -0.28854167 -0.4401632   0.00458563\n",
            " -0.07824975  0.18824083  0.05077408 -0.05739668  0.15620743 -0.48762608\n",
            "  0.1922928   0.08314091  0.04989756  0.02644576 -0.06825414  0.35304525\n",
            "  0.17191295 -0.16261117 -0.2936474   0.29585826  0.34883434  0.13242614\n",
            "  0.20136862 -0.45008007  0.10677742  0.29548344  0.05580255 -0.10513617\n",
            " -0.18692017 -0.00885901  0.01701376 -0.16563897 -0.11337513  0.06720471\n",
            "  0.15243004 -0.00960089 -0.0473961  -0.08677159 -0.07125839  0.16441917\n",
            "  0.00310922 -0.36776385  0.08532935  0.06346983 -0.02668795  0.22113207\n",
            " -0.2441667   0.02439994 -0.00925008  0.23633759 -0.10890642  0.11366176\n",
            " -0.0994612   0.21860765  0.01365219  0.01017555 -0.1882097   0.25845018\n",
            "  0.30251107  0.03778573  0.206645    0.22037302  0.16829754  0.04512674\n",
            "  0.01971447 -0.36934844  0.0328729  -0.20335236  0.12939689  0.04162559\n",
            "  0.02085797 -0.10500363 -0.17457162 -0.28335714 -0.08274048 -0.04555536\n",
            " -0.11861075 -0.03437103  0.0255297  -0.2554016   0.17146216  0.05093628\n",
            "  0.0917547  -0.06427904 -0.16107002  0.19086204 -0.10930005 -0.18050742\n",
            " -0.06337117  0.01224837 -0.09302392  0.22475737  0.30700293 -0.26619977\n",
            "  0.2305236   0.00149169  0.13293476  0.02429233  0.07883647 -0.09135374\n",
            " -0.17123872 -0.3664065   0.3834617  -0.21642369  0.30520016 -0.05142065\n",
            " -0.36278993 -0.23481902  0.05347933 -0.33067894 -0.01501467  0.07849759\n",
            "  0.01582254 -0.111112    0.25853142 -0.1510902   0.07833586  0.03887907\n",
            "  0.06565052 -0.10252414 -0.02964626 -0.17363134  0.01443172  0.14266178\n",
            " -0.2042187   0.03214323 -0.1629491   0.23105827 -0.08103111 -0.07967328\n",
            "  0.13010906 -0.15625998  0.0689413  -0.03020397 -0.04729844 -0.24360013\n",
            "  0.2185359  -0.0347794   0.05899534  0.17103592  0.02150829  0.2957355\n",
            "  0.11162414 -0.16905093 -0.18563178 -0.19697626  0.3415001   0.18426846\n",
            " -0.20898484 -0.06920402  0.02646237 -0.33699226  0.0361828  -0.02290664\n",
            " -0.04528077 -0.02644458  0.27353263  0.2873995  -0.03061444  0.13751149\n",
            "  0.05503082  0.02680384  0.05629698  0.03125441  0.27008575  0.18144625\n",
            "  0.04076385  0.18558657 -0.10238926 -0.05794458  0.04535891 -0.09978388\n",
            " -0.17145762 -0.15288326  0.09159966  0.05247529  0.00280528  0.00947132\n",
            "  0.23113796  0.0304687   0.11368281  0.35986233  0.15569495 -0.02521801\n",
            "  0.35871565  0.3222857   0.00839845  0.1805266   0.1312731  -0.31311095]\n"
          ]
        }
      ],
      "source": [
        "# el método `get_vector` permite obtener los vectores:\n",
        "vector_love = w2v_model.wv.get_vector(\"love\")\n",
        "print(vector_love)"
      ]
    },
    {
      "cell_type": "code",
      "execution_count": 20,
      "metadata": {
        "id": "eU_FeWNdA9WZ",
        "outputId": "7df62a21-416f-4c28-8a24-befe504048a7",
        "colab": {
          "base_uri": "https://localhost:8080/"
        }
      },
      "outputs": [
        {
          "output_type": "execute_result",
          "data": {
            "text/plain": [
              "[('love', 1.0),\n",
              " ('babe', 0.9132986068725586),\n",
              " ('someone', 0.8914992809295654),\n",
              " ('nothing', 0.8811879754066467),\n",
              " ('need', 0.8758756518363953),\n",
              " (\"didn't\", 0.8689683079719543),\n",
              " (\"there's\", 0.8557919859886169),\n",
              " ('you', 0.8447725772857666),\n",
              " ('feed', 0.8422104716300964),\n",
              " ('somebody', 0.8385539054870605)]"
            ]
          },
          "metadata": {},
          "execution_count": 20
        }
      ],
      "source": [
        "# el método `most_similar` también permite comparar a partir de vectores\n",
        "w2v_model.wv.most_similar(vector_love)"
      ]
    },
    {
      "cell_type": "code",
      "execution_count": 21,
      "metadata": {
        "id": "CS-s0itYA9WZ",
        "outputId": "48499a09-9bf8-47d2-eb5d-6630c34bd0cd",
        "colab": {
          "base_uri": "https://localhost:8080/"
        }
      },
      "outputs": [
        {
          "output_type": "execute_result",
          "data": {
            "text/plain": [
              "[('babe', 0.9132986068725586),\n",
              " ('someone', 0.8914992809295654),\n",
              " ('nothing', 0.8811879754066467),\n",
              " ('need', 0.8758756518363953),\n",
              " (\"didn't\", 0.8689682483673096),\n",
              " (\"there's\", 0.8557919859886169),\n",
              " ('you', 0.8447725772857666),\n",
              " ('feed', 0.8422104716300964),\n",
              " ('somebody', 0.8385538458824158),\n",
              " ('hope', 0.8361446261405945)]"
            ]
          },
          "metadata": {},
          "execution_count": 21
        }
      ],
      "source": [
        "# Palabras que MÁS se relacionan con...:\n",
        "w2v_model.wv.most_similar(positive=[\"love\"], topn=10)"
      ]
    },
    {
      "cell_type": "markdown",
      "metadata": {
        "id": "_g8UVWe6lFmh"
      },
      "source": [
        "### 5 - Visualizar agrupación de vectores"
      ]
    },
    {
      "cell_type": "code",
      "execution_count": 22,
      "metadata": {
        "id": "pDxEVXAivjr9"
      },
      "outputs": [],
      "source": [
        "from sklearn.decomposition import IncrementalPCA\n",
        "from sklearn.manifold import TSNE\n",
        "import numpy as np\n",
        "\n",
        "def reduce_dimensions(model, num_dimensions = 2 ):\n",
        "\n",
        "    vectors = np.asarray(model.wv.vectors)\n",
        "    labels = np.asarray(model.wv.index_to_key)\n",
        "\n",
        "    tsne = TSNE(n_components=num_dimensions, random_state=0)\n",
        "    vectors = tsne.fit_transform(vectors)\n",
        "\n",
        "    return vectors, labels"
      ]
    },
    {
      "cell_type": "code",
      "execution_count": 23,
      "metadata": {
        "id": "NCCXtDpcugmd",
        "outputId": "9622d8e2-e61e-4dff-e5eb-35993451f7f9",
        "colab": {
          "base_uri": "https://localhost:8080/",
          "height": 542
        }
      },
      "outputs": [
        {
          "output_type": "display_data",
          "data": {
            "text/html": [
              "<html>\n",
              "<head><meta charset=\"utf-8\" /></head>\n",
              "<body>\n",
              "    <div>            <script src=\"https://cdnjs.cloudflare.com/ajax/libs/mathjax/2.7.5/MathJax.js?config=TeX-AMS-MML_SVG\"></script><script type=\"text/javascript\">if (window.MathJax && window.MathJax.Hub && window.MathJax.Hub.Config) {window.MathJax.Hub.Config({SVG: {font: \"STIX-Web\"}});}</script>                <script type=\"text/javascript\">window.PlotlyConfig = {MathJaxConfig: 'local'};</script>\n",
              "        <script charset=\"utf-8\" src=\"https://cdn.plot.ly/plotly-2.24.1.min.js\"></script>                <div id=\"a1ec4f1a-ca14-4505-be49-b67e7679cf58\" class=\"plotly-graph-div\" style=\"height:525px; width:100%;\"></div>            <script type=\"text/javascript\">                                    window.PLOTLYENV=window.PLOTLYENV || {};                                    if (document.getElementById(\"a1ec4f1a-ca14-4505-be49-b67e7679cf58\")) {                    Plotly.newPlot(                        \"a1ec4f1a-ca14-4505-be49-b67e7679cf58\",                        [{\"hovertemplate\":\"x=%{x}\\u003cbr\\u003ey=%{y}\\u003cbr\\u003etext=%{text}\\u003cextra\\u003e\\u003c\\u002fextra\\u003e\",\"legendgroup\":\"\",\"marker\":{\"color\":\"#636efa\",\"symbol\":\"circle\"},\"mode\":\"markers+text\",\"name\":\"\",\"orientation\":\"v\",\"showlegend\":false,\"text\":[\"you\",\"i\",\"the\",\"to\",\"and\",\"love\",\"a\",\"me\",\"in\",\"all\",\"nah\",\"my\",\"it\",\"know\",\"that\",\"be\",\"on\",\"of\",\"she\",\"is\",\"say\",\"now\",\"oh\",\"your\",\"yeah\",\"get\",\"don't\",\"back\",\"with\",\"let\",\"her\",\"can\",\"it's\",\"do\",\"when\",\"come\",\"i'm\",\"will\",\"he\",\"but\",\"for\",\"so\",\"there\",\"need\",\"like\",\"together\",\"no\",\"i'll\",\"see\",\"we\",\"was\",\"never\",\"down\",\"if\",\"way\",\"want\",\"hey\",\"out\",\"one\",\"got\",\"can't\",\"girl\",\"well\",\"good\",\"go\",\"sun\",\"his\",\"hello\",\"home\",\"they\",\"day\",\"are\",\"ah\",\"right\",\"from\",\"little\",\"at\",\"man\",\"help\",\"here\",\"have\",\"gonna\",\"not\",\"world\",\"what\",\"going\",\"how\",\"please\",\"still\",\"too\",\"just\",\"you're\",\"time\",\"as\",\"make\",\"long\",\"yes\",\"yellow\",\"life\",\"once\",\"sky\",\"been\",\"think\",\"tell\",\"why\",\"only\",\"where\",\"people\",\"she's\",\"eyes\",\"jude\",\"take\",\"submarine\",\"up\",\"hold\",\"goodbye\",\"give\",\"nowhere\",\"sing\",\"look\",\"friends\",\"always\",\"hand\",\"boy\",\"we're\",\"am\",\"away\",\"darling\",\"goo\",\"nothing\",\"should\",\"lonely\",\"could\",\"feel\",\"some\",\"night\",\"comes\",\"had\",\"would\",\"better\",\"head\",\"them\",\"four\",\"buy\",\"more\",\"i've\",\"la\",\"mind\",\"two\",\"this\",\"everything\",\"carry\",\"by\",\"our\",\"sunshine\",\"weight\",\"change\",\"us\",\"lucy\",\"birthday\",\"an\",\"true\",\"you'll\",\"every\",\"pretty\",\"three\",\"diamonds\",\"before\",\"believe\",\"these\",\"i'd\",\"words\",\"mm\",\"work\",\"dear\",\"leave\",\"were\",\"mine\",\"there's\",\"nobody\",\"told\",\"money\",\"bom\",\"said\",\"forever\",\"round\",\"children\",\"'cause\",\"something\",\"about\",\"waiting\",\"standing\",\"who\",\"didn't\",\"try\",\"loves\",\"then\",\"hide\",\"saw\",\"prudence\"],\"x\":[2.838963747024536,9.982600212097168,0.5375071167945862,-4.791562080383301,-6.886194229125977,-0.4934464693069458,-9.430517196655273,-2.6611714363098145,-1.359351634979248,9.021523475646973,-14.624564170837402,8.797327995300293,14.560478210449219,10.477313041687012,12.067187309265137,12.200465202331543,13.048758506774902,-2.616943120956421,-10.197563171386719,4.180907249450684,11.93883991241455,9.256722450256348,7.293242454528809,-1.9336940050125122,-9.474272727966309,22.059444427490234,10.969840049743652,22.342159271240234,-2.399932622909546,13.392200469970703,6.998386859893799,0.1346704661846161,9.413893699645996,5.834963321685791,4.3270263671875,12.72447681427002,-17.47830581665039,1.191132664680481,-0.10350888967514038,-2.123049259185791,11.046406745910645,4.674851417541504,18.199222564697266,-0.1414731740951538,-4.680105209350586,9.67143726348877,8.373656272888184,10.157896041870117,-0.3179813623428345,-6.52002477645874,18.634267807006836,7.389016151428223,12.918389320373535,3.2965288162231445,21.22577667236328,-1.173004388809204,-13.70418643951416,13.224194526672363,-22.55449676513672,-7.509551525115967,4.747176170349121,4.43795919418335,-1.9701505899429321,19.459735870361328,19.323974609375,-9.70400619506836,-3.479034900665283,13.131912231445312,22.22352409362793,-2.2351906299591064,19.481304168701172,-4.518866539001465,4.171380519866943,8.933794021606445,-14.231727600097656,-13.733592987060547,4.351020336151123,-6.745800495147705,-15.062121391296387,-9.70981502532959,-5.61811637878418,13.072504997253418,-17.778608322143555,13.033975601196289,8.256095886230469,-15.499510765075684,6.390833377838135,-5.0528788566589355,0.6469274759292603,13.195125579833984,-5.9835286140441895,14.58084774017334,12.533474922180176,4.859212875366211,-3.113860607147217,12.724212646484375,15.780452728271484,-6.959356784820557,6.364383220672607,19.56490135192871,-1.3776589632034302,4.680457592010498,7.074658393859863,2.312488555908203,11.94332504272461,9.006549835205078,20.446462631225586,4.220479488372803,7.0989909172058105,-1.539312481880188,-13.677209854125977,8.898698806762695,-6.964517116546631,1.236354112625122,-0.7538406848907471,12.947199821472168,-7.206881999969482,-5.209415435791016,-0.28830838203430176,4.32887601852417,-14.596967697143555,10.8587064743042,-1.7226166725158691,14.844179153442383,-8.544918060302734,16.150156021118164,5.201637268066406,-13.943495750427246,23.5637149810791,-0.23457446694374084,8.919766426086426,4.07794713973999,8.042705535888672,5.350041389465332,-5.722425937652588,2.4333345890045166,-9.700400352478027,-10.619771003723145,1.2975109815597534,-3.4345085620880127,-1.8858003616333008,-7.680380344390869,-22.498580932617188,4.703067302703857,-9.604215621948242,-6.786909580230713,-11.177506446838379,7.20937967300415,-22.371326446533203,8.27763557434082,-5.641467571258545,13.627756118774414,-10.448958396911621,21.379077911376953,19.471588134765625,13.438395500183105,13.362412452697754,-4.9815354347229,-1.6988379955291748,3.3613266944885254,11.864350318908691,10.744322776794434,6.971465110778809,2.4930031299591064,-13.273324012756348,-22.32157325744629,-1.9631098508834839,11.13770866394043,4.38882303237915,-0.47863221168518066,2.339540958404541,10.133413314819336,-9.414175987243652,13.286645889282227,-10.114877700805664,7.286474227905273,5.700143337249756,-8.778143882751465,2.949378490447998,-1.648893117904663,3.8735499382019043,4.960979461669922,-21.928220748901367,-3.933897018432617,-16.993003845214844,6.649723052978516,19.27179718017578,-16.356109619140625,-1.3672841787338257,-4.340540409088135,7.641147136688232,4.668107986450195,-5.873024940490723,1.5255225896835327,-11.067024230957031,-9.753378868103027,-9.973467826843262,-6.3170623779296875,4.226613521575928,-10.347503662109375],\"xaxis\":\"x\",\"y\":[-21.38149642944336,-18.438377380371094,16.801450729370117,-7.051224231719971,3.754399538040161,-20.69751739501953,14.698360443115234,-21.004074096679688,19.119022369384766,20.204439163208008,-15.292767524719238,14.121949195861816,16.442596435546875,-15.89709758758545,1.6942745447158813,-7.7192840576171875,20.559246063232422,15.528894424438477,-18.375076293945312,13.82436752319336,-17.82828140258789,20.28754425048828,-20.95779037475586,-26.0498046875,-19.560483932495117,-4.6839447021484375,-15.156420707702637,-4.181734085083008,21.60183334350586,-8.660977363586426,-3.398423910140991,-14.68058967590332,-2.6768734455108643,-21.006914138793945,-22.04243278503418,20.550092697143555,-4.0466742515563965,-22.69362449645996,-8.345388412475586,-13.266801834106445,3.851510763168335,-19.070270538330078,-2.844860553741455,-21.867889404296875,-20.039037704467773,21.03231430053711,-19.72781753540039,-11.503844261169434,-16.6578369140625,19.67976188659668,-3.035555839538574,-18.72821807861328,-9.16997241973877,-17.880666732788086,-1.9654111862182617,-25.14462661743164,-14.968624114990234,18.352479934692383,1.7255762815475464,-15.139522552490234,-26.7650203704834,9.433177947998047,-8.025964736938477,13.316680908203125,10.485108375549316,25.62236785888672,16.564311981201172,-18.44642448425293,-3.473133087158203,-10.59421443939209,13.880477905273438,-0.7951553463935852,26.296533584594727,21.29364013671875,15.616515159606934,15.2471284866333,25.035858154296875,15.49736499786377,15.244677543640137,25.62425422668457,-0.5557090044021606,7.022282123565674,-10.163151741027832,9.041138648986816,-18.158279418945312,-2.413395404815674,-12.00219440460205,-21.367816925048828,-22.42497444152832,0.6710139513015747,-15.798483848571777,6.889676094055176,2.3841400146484375,1.137285590171814,-15.947582244873047,3.9112157821655273,-15.233771324157715,21.413389205932617,15.964007377624512,-3.978609085083008,22.033489227294922,7.107960224151611,-17.29109764099121,-20.216094970703125,-17.032381057739258,4.410145282745361,-4.276609420776367,21.065961837768555,-0.2869432866573334,17.75337791442871,-14.913620948791504,-8.788951873779297,21.41185760498047,14.993703842163086,-26.130590438842773,-18.300735473632812,-13.76458740234375,16.273773193359375,-11.8950777053833,25.216176986694336,15.616869926452637,-9.867213249206543,-25.94891357421875,6.830827713012695,8.527377128601074,-14.808009147644043,-5.84785270690918,12.397010803222656,5.42926549911499,-19.17107582092285,-13.967561721801758,21.638471603393555,-15.89632511138916,-14.773481369018555,0.5104060769081116,9.276945114135742,25.614910125732422,-5.018797874450684,-14.957069396972656,-16.100069046020508,16.647289276123047,1.7838659286499023,-0.3326951563358307,-26.73134994506836,-13.128954887390137,-11.942083358764648,-7.675899505615234,14.930630683898926,0.8058097958564758,5.055475234985352,-13.456974983215332,5.9854512214660645,13.373199462890625,-1.1168196201324463,13.664650917053223,5.335666179656982,8.382848739624023,10.757699966430664,21.50844383239746,-12.770384788513184,-4.984148979187012,-9.509395599365234,-14.78965950012207,7.083154678344727,11.949882507324219,0.2838653028011322,21.667213439941406,1.480636477470398,-19.619903564453125,13.106077194213867,-4.982314109802246,-5.991342544555664,-8.616519927978516,18.277128219604492,6.278156757354736,-9.733050346374512,2.772592067718506,-5.431015491485596,-16.34111213684082,-3.044740915298462,-20.231657028198242,-26.996992111206055,-7.336965084075928,-1.4478353261947632,0.11025389283895493,12.075596809387207,11.293593406677246,-3.948366403579712,0.38991883397102356,-11.069907188415527,5.714303970336914,4.405151844024658,15.723204612731934,-19.859773635864258,13.073870658874512,-19.0628719329834,2.7974143028259277,-15.239845275878906,-4.443398952484131,6.393514156341553],\"yaxis\":\"y\",\"type\":\"scatter\"}],                        {\"template\":{\"data\":{\"histogram2dcontour\":[{\"type\":\"histogram2dcontour\",\"colorbar\":{\"outlinewidth\":0,\"ticks\":\"\"},\"colorscale\":[[0.0,\"#0d0887\"],[0.1111111111111111,\"#46039f\"],[0.2222222222222222,\"#7201a8\"],[0.3333333333333333,\"#9c179e\"],[0.4444444444444444,\"#bd3786\"],[0.5555555555555556,\"#d8576b\"],[0.6666666666666666,\"#ed7953\"],[0.7777777777777778,\"#fb9f3a\"],[0.8888888888888888,\"#fdca26\"],[1.0,\"#f0f921\"]]}],\"choropleth\":[{\"type\":\"choropleth\",\"colorbar\":{\"outlinewidth\":0,\"ticks\":\"\"}}],\"histogram2d\":[{\"type\":\"histogram2d\",\"colorbar\":{\"outlinewidth\":0,\"ticks\":\"\"},\"colorscale\":[[0.0,\"#0d0887\"],[0.1111111111111111,\"#46039f\"],[0.2222222222222222,\"#7201a8\"],[0.3333333333333333,\"#9c179e\"],[0.4444444444444444,\"#bd3786\"],[0.5555555555555556,\"#d8576b\"],[0.6666666666666666,\"#ed7953\"],[0.7777777777777778,\"#fb9f3a\"],[0.8888888888888888,\"#fdca26\"],[1.0,\"#f0f921\"]]}],\"heatmap\":[{\"type\":\"heatmap\",\"colorbar\":{\"outlinewidth\":0,\"ticks\":\"\"},\"colorscale\":[[0.0,\"#0d0887\"],[0.1111111111111111,\"#46039f\"],[0.2222222222222222,\"#7201a8\"],[0.3333333333333333,\"#9c179e\"],[0.4444444444444444,\"#bd3786\"],[0.5555555555555556,\"#d8576b\"],[0.6666666666666666,\"#ed7953\"],[0.7777777777777778,\"#fb9f3a\"],[0.8888888888888888,\"#fdca26\"],[1.0,\"#f0f921\"]]}],\"heatmapgl\":[{\"type\":\"heatmapgl\",\"colorbar\":{\"outlinewidth\":0,\"ticks\":\"\"},\"colorscale\":[[0.0,\"#0d0887\"],[0.1111111111111111,\"#46039f\"],[0.2222222222222222,\"#7201a8\"],[0.3333333333333333,\"#9c179e\"],[0.4444444444444444,\"#bd3786\"],[0.5555555555555556,\"#d8576b\"],[0.6666666666666666,\"#ed7953\"],[0.7777777777777778,\"#fb9f3a\"],[0.8888888888888888,\"#fdca26\"],[1.0,\"#f0f921\"]]}],\"contourcarpet\":[{\"type\":\"contourcarpet\",\"colorbar\":{\"outlinewidth\":0,\"ticks\":\"\"}}],\"contour\":[{\"type\":\"contour\",\"colorbar\":{\"outlinewidth\":0,\"ticks\":\"\"},\"colorscale\":[[0.0,\"#0d0887\"],[0.1111111111111111,\"#46039f\"],[0.2222222222222222,\"#7201a8\"],[0.3333333333333333,\"#9c179e\"],[0.4444444444444444,\"#bd3786\"],[0.5555555555555556,\"#d8576b\"],[0.6666666666666666,\"#ed7953\"],[0.7777777777777778,\"#fb9f3a\"],[0.8888888888888888,\"#fdca26\"],[1.0,\"#f0f921\"]]}],\"surface\":[{\"type\":\"surface\",\"colorbar\":{\"outlinewidth\":0,\"ticks\":\"\"},\"colorscale\":[[0.0,\"#0d0887\"],[0.1111111111111111,\"#46039f\"],[0.2222222222222222,\"#7201a8\"],[0.3333333333333333,\"#9c179e\"],[0.4444444444444444,\"#bd3786\"],[0.5555555555555556,\"#d8576b\"],[0.6666666666666666,\"#ed7953\"],[0.7777777777777778,\"#fb9f3a\"],[0.8888888888888888,\"#fdca26\"],[1.0,\"#f0f921\"]]}],\"mesh3d\":[{\"type\":\"mesh3d\",\"colorbar\":{\"outlinewidth\":0,\"ticks\":\"\"}}],\"scatter\":[{\"fillpattern\":{\"fillmode\":\"overlay\",\"size\":10,\"solidity\":0.2},\"type\":\"scatter\"}],\"parcoords\":[{\"type\":\"parcoords\",\"line\":{\"colorbar\":{\"outlinewidth\":0,\"ticks\":\"\"}}}],\"scatterpolargl\":[{\"type\":\"scatterpolargl\",\"marker\":{\"colorbar\":{\"outlinewidth\":0,\"ticks\":\"\"}}}],\"bar\":[{\"error_x\":{\"color\":\"#2a3f5f\"},\"error_y\":{\"color\":\"#2a3f5f\"},\"marker\":{\"line\":{\"color\":\"#E5ECF6\",\"width\":0.5},\"pattern\":{\"fillmode\":\"overlay\",\"size\":10,\"solidity\":0.2}},\"type\":\"bar\"}],\"scattergeo\":[{\"type\":\"scattergeo\",\"marker\":{\"colorbar\":{\"outlinewidth\":0,\"ticks\":\"\"}}}],\"scatterpolar\":[{\"type\":\"scatterpolar\",\"marker\":{\"colorbar\":{\"outlinewidth\":0,\"ticks\":\"\"}}}],\"histogram\":[{\"marker\":{\"pattern\":{\"fillmode\":\"overlay\",\"size\":10,\"solidity\":0.2}},\"type\":\"histogram\"}],\"scattergl\":[{\"type\":\"scattergl\",\"marker\":{\"colorbar\":{\"outlinewidth\":0,\"ticks\":\"\"}}}],\"scatter3d\":[{\"type\":\"scatter3d\",\"line\":{\"colorbar\":{\"outlinewidth\":0,\"ticks\":\"\"}},\"marker\":{\"colorbar\":{\"outlinewidth\":0,\"ticks\":\"\"}}}],\"scattermapbox\":[{\"type\":\"scattermapbox\",\"marker\":{\"colorbar\":{\"outlinewidth\":0,\"ticks\":\"\"}}}],\"scatterternary\":[{\"type\":\"scatterternary\",\"marker\":{\"colorbar\":{\"outlinewidth\":0,\"ticks\":\"\"}}}],\"scattercarpet\":[{\"type\":\"scattercarpet\",\"marker\":{\"colorbar\":{\"outlinewidth\":0,\"ticks\":\"\"}}}],\"carpet\":[{\"aaxis\":{\"endlinecolor\":\"#2a3f5f\",\"gridcolor\":\"white\",\"linecolor\":\"white\",\"minorgridcolor\":\"white\",\"startlinecolor\":\"#2a3f5f\"},\"baxis\":{\"endlinecolor\":\"#2a3f5f\",\"gridcolor\":\"white\",\"linecolor\":\"white\",\"minorgridcolor\":\"white\",\"startlinecolor\":\"#2a3f5f\"},\"type\":\"carpet\"}],\"table\":[{\"cells\":{\"fill\":{\"color\":\"#EBF0F8\"},\"line\":{\"color\":\"white\"}},\"header\":{\"fill\":{\"color\":\"#C8D4E3\"},\"line\":{\"color\":\"white\"}},\"type\":\"table\"}],\"barpolar\":[{\"marker\":{\"line\":{\"color\":\"#E5ECF6\",\"width\":0.5},\"pattern\":{\"fillmode\":\"overlay\",\"size\":10,\"solidity\":0.2}},\"type\":\"barpolar\"}],\"pie\":[{\"automargin\":true,\"type\":\"pie\"}]},\"layout\":{\"autotypenumbers\":\"strict\",\"colorway\":[\"#636efa\",\"#EF553B\",\"#00cc96\",\"#ab63fa\",\"#FFA15A\",\"#19d3f3\",\"#FF6692\",\"#B6E880\",\"#FF97FF\",\"#FECB52\"],\"font\":{\"color\":\"#2a3f5f\"},\"hovermode\":\"closest\",\"hoverlabel\":{\"align\":\"left\"},\"paper_bgcolor\":\"white\",\"plot_bgcolor\":\"#E5ECF6\",\"polar\":{\"bgcolor\":\"#E5ECF6\",\"angularaxis\":{\"gridcolor\":\"white\",\"linecolor\":\"white\",\"ticks\":\"\"},\"radialaxis\":{\"gridcolor\":\"white\",\"linecolor\":\"white\",\"ticks\":\"\"}},\"ternary\":{\"bgcolor\":\"#E5ECF6\",\"aaxis\":{\"gridcolor\":\"white\",\"linecolor\":\"white\",\"ticks\":\"\"},\"baxis\":{\"gridcolor\":\"white\",\"linecolor\":\"white\",\"ticks\":\"\"},\"caxis\":{\"gridcolor\":\"white\",\"linecolor\":\"white\",\"ticks\":\"\"}},\"coloraxis\":{\"colorbar\":{\"outlinewidth\":0,\"ticks\":\"\"}},\"colorscale\":{\"sequential\":[[0.0,\"#0d0887\"],[0.1111111111111111,\"#46039f\"],[0.2222222222222222,\"#7201a8\"],[0.3333333333333333,\"#9c179e\"],[0.4444444444444444,\"#bd3786\"],[0.5555555555555556,\"#d8576b\"],[0.6666666666666666,\"#ed7953\"],[0.7777777777777778,\"#fb9f3a\"],[0.8888888888888888,\"#fdca26\"],[1.0,\"#f0f921\"]],\"sequentialminus\":[[0.0,\"#0d0887\"],[0.1111111111111111,\"#46039f\"],[0.2222222222222222,\"#7201a8\"],[0.3333333333333333,\"#9c179e\"],[0.4444444444444444,\"#bd3786\"],[0.5555555555555556,\"#d8576b\"],[0.6666666666666666,\"#ed7953\"],[0.7777777777777778,\"#fb9f3a\"],[0.8888888888888888,\"#fdca26\"],[1.0,\"#f0f921\"]],\"diverging\":[[0,\"#8e0152\"],[0.1,\"#c51b7d\"],[0.2,\"#de77ae\"],[0.3,\"#f1b6da\"],[0.4,\"#fde0ef\"],[0.5,\"#f7f7f7\"],[0.6,\"#e6f5d0\"],[0.7,\"#b8e186\"],[0.8,\"#7fbc41\"],[0.9,\"#4d9221\"],[1,\"#276419\"]]},\"xaxis\":{\"gridcolor\":\"white\",\"linecolor\":\"white\",\"ticks\":\"\",\"title\":{\"standoff\":15},\"zerolinecolor\":\"white\",\"automargin\":true,\"zerolinewidth\":2},\"yaxis\":{\"gridcolor\":\"white\",\"linecolor\":\"white\",\"ticks\":\"\",\"title\":{\"standoff\":15},\"zerolinecolor\":\"white\",\"automargin\":true,\"zerolinewidth\":2},\"scene\":{\"xaxis\":{\"backgroundcolor\":\"#E5ECF6\",\"gridcolor\":\"white\",\"linecolor\":\"white\",\"showbackground\":true,\"ticks\":\"\",\"zerolinecolor\":\"white\",\"gridwidth\":2},\"yaxis\":{\"backgroundcolor\":\"#E5ECF6\",\"gridcolor\":\"white\",\"linecolor\":\"white\",\"showbackground\":true,\"ticks\":\"\",\"zerolinecolor\":\"white\",\"gridwidth\":2},\"zaxis\":{\"backgroundcolor\":\"#E5ECF6\",\"gridcolor\":\"white\",\"linecolor\":\"white\",\"showbackground\":true,\"ticks\":\"\",\"zerolinecolor\":\"white\",\"gridwidth\":2}},\"shapedefaults\":{\"line\":{\"color\":\"#2a3f5f\"}},\"annotationdefaults\":{\"arrowcolor\":\"#2a3f5f\",\"arrowhead\":0,\"arrowwidth\":1},\"geo\":{\"bgcolor\":\"white\",\"landcolor\":\"#E5ECF6\",\"subunitcolor\":\"white\",\"showland\":true,\"showlakes\":true,\"lakecolor\":\"white\"},\"title\":{\"x\":0.05},\"mapbox\":{\"style\":\"light\"}}},\"xaxis\":{\"anchor\":\"y\",\"domain\":[0.0,1.0],\"title\":{\"text\":\"x\"}},\"yaxis\":{\"anchor\":\"x\",\"domain\":[0.0,1.0],\"title\":{\"text\":\"y\"}},\"legend\":{\"tracegroupgap\":0},\"margin\":{\"t\":60}},                        {\"responsive\": true}                    ).then(function(){\n",
              "                            \n",
              "var gd = document.getElementById('a1ec4f1a-ca14-4505-be49-b67e7679cf58');\n",
              "var x = new MutationObserver(function (mutations, observer) {{\n",
              "        var display = window.getComputedStyle(gd).display;\n",
              "        if (!display || display === 'none') {{\n",
              "            console.log([gd, 'removed!']);\n",
              "            Plotly.purge(gd);\n",
              "            observer.disconnect();\n",
              "        }}\n",
              "}});\n",
              "\n",
              "// Listen for the removal of the full notebook cells\n",
              "var notebookContainer = gd.closest('#notebook-container');\n",
              "if (notebookContainer) {{\n",
              "    x.observe(notebookContainer, {childList: true});\n",
              "}}\n",
              "\n",
              "// Listen for the clearing of the current output cell\n",
              "var outputEl = gd.closest('.output');\n",
              "if (outputEl) {{\n",
              "    x.observe(outputEl, {childList: true});\n",
              "}}\n",
              "\n",
              "                        })                };                            </script>        </div>\n",
              "</body>\n",
              "</html>"
            ]
          },
          "metadata": {}
        }
      ],
      "source": [
        "# Graficar los embedddings en 2D\n",
        "import plotly.graph_objects as go\n",
        "import plotly.express as px\n",
        "\n",
        "vecs, labels = reduce_dimensions(w2v_model)\n",
        "\n",
        "MAX_WORDS=200\n",
        "fig = px.scatter(x=vecs[:MAX_WORDS,0], y=vecs[:MAX_WORDS,1], text=labels[:MAX_WORDS])\n",
        "fig.show(renderer=\"colab\") # esto para plotly en colab"
      ]
    },
    {
      "cell_type": "code",
      "execution_count": 24,
      "metadata": {
        "id": "7d4O-lueA9Wa",
        "outputId": "81a33c89-8981-4bdc-833e-644a2b72c4e9",
        "colab": {
          "base_uri": "https://localhost:8080/",
          "height": 542
        }
      },
      "outputs": [
        {
          "output_type": "display_data",
          "data": {
            "text/html": [
              "<html>\n",
              "<head><meta charset=\"utf-8\" /></head>\n",
              "<body>\n",
              "    <div>            <script src=\"https://cdnjs.cloudflare.com/ajax/libs/mathjax/2.7.5/MathJax.js?config=TeX-AMS-MML_SVG\"></script><script type=\"text/javascript\">if (window.MathJax && window.MathJax.Hub && window.MathJax.Hub.Config) {window.MathJax.Hub.Config({SVG: {font: \"STIX-Web\"}});}</script>                <script type=\"text/javascript\">window.PlotlyConfig = {MathJaxConfig: 'local'};</script>\n",
              "        <script charset=\"utf-8\" src=\"https://cdn.plot.ly/plotly-2.24.1.min.js\"></script>                <div id=\"97eb4cc7-6059-4cc9-84cd-fb9b1b89ad55\" class=\"plotly-graph-div\" style=\"height:525px; width:100%;\"></div>            <script type=\"text/javascript\">                                    window.PLOTLYENV=window.PLOTLYENV || {};                                    if (document.getElementById(\"97eb4cc7-6059-4cc9-84cd-fb9b1b89ad55\")) {                    Plotly.newPlot(                        \"97eb4cc7-6059-4cc9-84cd-fb9b1b89ad55\",                        [{\"hovertemplate\":\"x=%{x}\\u003cbr\\u003ey=%{y}\\u003cbr\\u003ez=%{z}\\u003cbr\\u003etext=%{text}\\u003cextra\\u003e\\u003c\\u002fextra\\u003e\",\"legendgroup\":\"\",\"marker\":{\"color\":\"#636efa\",\"symbol\":\"circle\",\"size\":2},\"mode\":\"markers+text\",\"name\":\"\",\"scene\":\"scene\",\"showlegend\":false,\"text\":[\"you\",\"i\",\"the\",\"to\",\"and\",\"love\",\"a\",\"me\",\"in\",\"all\",\"nah\",\"my\",\"it\",\"know\",\"that\",\"be\",\"on\",\"of\",\"she\",\"is\",\"say\",\"now\",\"oh\",\"your\",\"yeah\",\"get\",\"don't\",\"back\",\"with\",\"let\",\"her\",\"can\",\"it's\",\"do\",\"when\",\"come\",\"i'm\",\"will\",\"he\",\"but\",\"for\",\"so\",\"there\",\"need\",\"like\",\"together\",\"no\",\"i'll\",\"see\",\"we\",\"was\",\"never\",\"down\",\"if\",\"way\",\"want\",\"hey\",\"out\",\"one\",\"got\",\"can't\",\"girl\",\"well\",\"good\",\"go\",\"sun\",\"his\",\"hello\",\"home\",\"they\",\"day\",\"are\",\"ah\",\"right\",\"from\",\"little\",\"at\",\"man\",\"help\",\"here\",\"have\",\"gonna\",\"not\",\"world\",\"what\",\"going\",\"how\",\"please\",\"still\",\"too\",\"just\",\"you're\",\"time\",\"as\",\"make\",\"long\",\"yes\",\"yellow\",\"life\",\"once\",\"sky\",\"been\",\"think\",\"tell\",\"why\",\"only\",\"where\",\"people\",\"she's\",\"eyes\",\"jude\",\"take\",\"submarine\",\"up\",\"hold\",\"goodbye\",\"give\",\"nowhere\",\"sing\",\"look\",\"friends\",\"always\",\"hand\",\"boy\",\"we're\",\"am\",\"away\",\"darling\",\"goo\",\"nothing\",\"should\",\"lonely\",\"could\",\"feel\",\"some\",\"night\",\"comes\",\"had\",\"would\",\"better\",\"head\",\"them\",\"four\",\"buy\",\"more\",\"i've\",\"la\",\"mind\",\"two\",\"this\",\"everything\",\"carry\",\"by\",\"our\",\"sunshine\",\"weight\",\"change\",\"us\",\"lucy\",\"birthday\",\"an\",\"true\",\"you'll\",\"every\",\"pretty\",\"three\",\"diamonds\",\"before\",\"believe\",\"these\",\"i'd\",\"words\",\"mm\",\"work\",\"dear\",\"leave\",\"were\",\"mine\",\"there's\",\"nobody\",\"told\",\"money\",\"bom\",\"said\",\"forever\",\"round\",\"children\",\"'cause\",\"something\",\"about\",\"waiting\",\"standing\",\"who\",\"didn't\",\"try\",\"loves\",\"then\",\"hide\",\"saw\",\"prudence\"],\"x\":[-20.70174789428711,-4.842916965484619,-2.087230682373047,-11.692377090454102,-7.35446310043335,-27.039487838745117,-14.26610279083252,-17.421154022216797,-4.499321460723877,-12.379899024963379,26.850841522216797,-25.563459396362305,-24.64095115661621,5.583834648132324,-9.343039512634277,23.512548446655273,-11.185493469238281,5.517962455749512,19.142744064331055,-12.969707489013672,4.0808000564575195,-12.270428657531738,-3.123403310775757,-28.166471481323242,16.299949645996094,-24.248680114746094,9.296492576599121,-21.182430267333984,-11.875960350036621,27.869577407836914,-23.534597396850586,-15.325037956237793,0.8760161399841309,-10.731039047241211,-18.107065200805664,-10.797502517700195,6.681725978851318,-24.461063385009766,1.504481315612793,-3.855078935623169,-2.061936616897583,-9.835709571838379,-14.244858741760254,-28.589210510253906,-12.695056915283203,-11.606498718261719,-10.663736343383789,13.960453987121582,-22.348072052001953,7.161238670349121,-16.41486358642578,-5.875168323516846,28.213058471679688,-10.613604545593262,-14.045517921447754,-27.535240173339844,24.033601760864258,-16.462703704833984,-0.5375293493270874,7.406795024871826,-3.132566452026367,8.947422981262207,17.511913299560547,7.95676326751709,5.326284885406494,19.433752059936523,7.982795238494873,8.153658866882324,-18.516876220703125,-17.315412521362305,4.182944297790527,-9.62803840637207,33.217323303222656,-11.378174781799316,-26.10731315612793,-24.539079666137695,28.27685546875,13.445439338684082,-30.154966354370117,22.782739639282227,-2.9446332454681396,-20.781566619873047,-6.7115678787231445,-21.755815505981445,-0.0451468862593174,-0.8066151738166809,7.572689056396484,-13.715994834899902,-27.63245391845703,-6.965902328491211,-0.22458642721176147,-15.00869369506836,-6.296000003814697,5.1887640953063965,16.875381469726562,-8.38963794708252,0.013034339062869549,3.42018723487854,-21.41933822631836,-21.644622802734375,-12.92221450805664,11.667064666748047,-6.374897003173828,-22.47637367248535,7.817523002624512,5.127618789672852,-24.049692153930664,21.062490463256836,5.62860107421875,-0.3056574761867523,24.1944580078125,23.09782600402832,0.36492857336997986,-5.144260406494141,-24.236520767211914,9.102872848510742,9.040915489196777,10.893241882324219,-20.70853042602539,30.248247146606445,-26.792184829711914,15.393811225891113,-28.43698501586914,-12.106060981750488,-7.499948024749756,2.9922163486480713,-14.79284954071045,-29.60137939453125,33.212318420410156,-22.118345260620117,9.379236221313477,21.400827407836914,1.2193886041641235,5.074190139770508,-4.189870357513428,6.357025146484375,20.005069732666016,21.234054565429688,-13.154454231262207,18.736576080322266,3.910231828689575,27.378135681152344,11.952752113342285,-6.522375106811523,14.881383895874023,6.950300693511963,33.662506103515625,-20.968894958496094,-1.8993152379989624,7.8439130783081055,6.799672603607178,-15.635348320007324,-17.318525314331055,-9.509759902954102,8.171910285949707,-13.249493598937988,-22.250638961791992,2.868911027908325,-10.737271308898926,-7.1968536376953125,5.579050540924072,17.124441146850586,3.0117688179016113,7.60103178024292,-25.11476707458496,12.461996078491211,-14.696564674377441,-4.289937973022461,-11.854793548583984,-8.163798332214355,-14.682543754577637,24.647974014282227,32.67981719970703,-19.222166061401367,-6.168342590332031,22.603004455566406,-4.002346038818359,25.20058250427246,-13.967489242553711,8.379024505615234,-16.216110229492188,-2.406233310699463,25.49074935913086,-5.808550834655762,12.19885540008545,-16.788959503173828,7.060634613037109,5.405200958251953,-6.3633503913879395,-1.3430988788604736,10.363539695739746,20.02126693725586,9.794326782226562,-19.10593605041504,-18.616830825805664,17.738676071166992,2.2558395862579346,3.3550221920013428,-11.00703239440918,-9.694595336914062],\"y\":[-33.02185821533203,-36.343441009521484,8.03756332397461,-0.08039607107639313,-0.9042083024978638,-28.45966911315918,25.63506507873535,-20.641178131103516,21.236055374145508,11.815224647521973,-9.043906211853027,6.660909175872803,11.190077781677246,-35.65229415893555,-18.284269332885742,-23.0659236907959,22.840919494628906,9.893253326416016,0.9729418158531189,2.2556324005126953,-37.613365173339844,14.312797546386719,-33.291709899902344,-11.722553253173828,-0.43999695777893066,31.365324020385742,-36.44647979736328,35.431034088134766,21.633731842041016,-25.542943954467773,-8.149267196655273,-22.36693000793457,-24.47307014465332,-30.45068359375,-32.55329132080078,22.82413673400879,7.570070266723633,-14.677238464355469,-7.678305149078369,-8.446162223815918,-20.98443603515625,-23.666311264038086,37.11253356933594,-23.03582763671875,-16.704666137695312,18.819421768188477,-36.0027961730957,-25.089630126953125,-18.63086700439453,33.840885162353516,36.09284591674805,-36.51894760131836,-22.145280838012695,-24.47599220275879,32.08597946166992,-19.505891799926758,-13.56144905090332,17.096586227416992,-13.92622184753418,-14.753288269042969,-19.191999435424805,1.9438802003860474,-7.990963459014893,35.915409088134766,32.32810974121094,-4.694710731506348,21.044130325317383,-36.09192657470703,31.317529678344727,3.3188202381134033,35.17616271972656,-6.811853408813477,7.061426162719727,16.26946258544922,18.17439079284668,20.274314880371094,10.12615966796875,26.625417709350586,17.21016502380371,-3.580101251602173,-8.057157516479492,-15.907221794128418,-35.203224182128906,-5.900054931640625,-35.399837493896484,9.278959274291992,-24.217060089111328,-22.684673309326172,-18.000444412231445,-24.208927154541016,-14.684715270996094,-12.363818168640137,-22.85719108581543,-8.454124450683594,-19.756624221801758,-21.275524139404297,-45.1046257019043,31.55310821533203,10.415650367736816,37.431514739990234,19.36345672607422,2.377047061920166,-30.615447998046875,-25.700883865356445,-38.691349029541016,-15.252668380737305,32.350948333740234,12.488750457763672,-4.304233551025391,20.057340621948242,-13.463082313537598,-21.31428337097168,32.21331787109375,25.328044891357422,-17.113737106323242,-38.045345306396484,-20.551502227783203,24.290998458862305,-7.743837833404541,8.5768461227417,14.66805362701416,-17.908649444580078,-15.185302734375,-10.191977500915527,25.15456771850586,-47.30036163330078,-12.418719291687012,20.023963928222656,20.464445114135742,-31.57331085205078,-30.930444717407227,16.84563636779785,-28.80198860168457,-22.636375427246094,-2.0454907417297363,5.383481979370117,-0.6925649642944336,2.4658031463623047,-20.32678985595703,-18.549564361572266,17.3167724609375,-2.644994020462036,19.73244857788086,-21.068117141723633,-18.40892219543457,-8.464309692382812,5.856571197509766,11.256521224975586,-10.832679748535156,-11.322407722473145,-14.084949493408203,-15.669026374816895,22.30632781982422,31.89497184753418,34.15699768066406,-18.824871063232422,-10.44357967376709,26.10533332824707,23.645963668823242,-19.23653793334961,14.797330856323242,-19.393423080444336,-28.928020477294922,25.132404327392578,18.476396560668945,24.298458099365234,22.91329574584961,-17.507038116455078,-27.62765884399414,16.081262588500977,-4.077681064605713,-12.748263359069824,3.7783567905426025,18.248573303222656,11.851758003234863,-27.397361755371094,-3.767521619796753,-0.7669057250022888,-29.931604385375977,-10.355528831481934,-29.155292510986328,-22.97878074645996,21.183019638061523,-7.1273603439331055,-12.047886848449707,-1.3829759359359741,31.600893020629883,6.902002811431885,0.6105689406394958,-2.1899642944335938,-7.965179443359375,-8.140047073364258,24.91197395324707,-24.451583862304688,21.146930694580078,0.48048537969589233,26.376218795776367,-18.087669372558594,-13.854157447814941,14.071683883666992],\"z\":[-10.877095222473145,-3.236016035079956,28.22693634033203,-20.636301040649414,-7.944808483123779,-8.132867813110352,13.808491706848145,-18.37630844116211,30.277803421020508,-30.27901268005371,-23.227920532226562,15.997942924499512,-17.040237426757812,-11.390817642211914,16.00918197631836,4.197617053985596,-17.063213348388672,29.22148895263672,-21.713708877563477,28.093795776367188,-3.17647385597229,-27.382614135742188,-21.555747985839844,-21.073787689208984,-30.29911231994629,-10.528484344482422,-14.872415542602539,-10.130834579467773,25.79326820373535,-0.10566841810941696,-2.0367844104766846,5.076129913330078,6.778334140777588,-22.763988494873047,-18.99213981628418,-21.512310028076172,-30.294004440307617,-10.766328811645508,-13.32095718383789,-20.577564239501953,23.193952560424805,-16.322227478027344,3.232713222503662,-9.641104698181152,-20.92057991027832,-28.907005310058594,-9.785152435302734,1.5654581785202026,-0.9160849452018738,18.128141403198242,-0.17094755172729492,-13.955916404724121,-3.9464550018310547,-8.1653413772583,-6.797565460205078,-20.001976013183594,-24.99526596069336,-16.453481674194336,35.157562255859375,-29.331640243530273,-35.78357696533203,32.526851654052734,-0.10683003067970276,-0.6433107852935791,-9.796364784240723,29.87096405029297,27.158172607421875,2.205564022064209,-11.916142463684082,-11.3096923828125,2.768235921859741,11.855452537536621,7.138778209686279,-33.42558288574219,16.990713119506836,13.126189231872559,13.643757820129395,12.901433944702148,12.624765396118164,27.19806671142578,12.33061695098877,24.101102828979492,8.987217903137207,21.82642936706543,-14.814866065979004,-24.270944595336914,-4.208587646484375,-25.188770294189453,-9.596856117248535,12.712556838989258,-27.286746978759766,26.21221160888672,18.304668426513672,12.470185279846191,-12.998066902160645,23.420759201049805,-2.435148239135742,26.649694442749023,24.002811431884766,-2.240281581878662,31.9920597076416,16.09184455871582,-7.308736801147461,-15.986778259277344,-6.818373680114746,21.893909454345703,-3.6282858848571777,23.579952239990234,30.843507766723633,27.105974197387695,-20.8680419921875,-7.349334239959717,24.445205688476562,1.506791591644287,-24.53566551208496,-1.1003389358520508,-24.0443058013916,21.358524322509766,-13.12330150604248,11.023859977722168,14.714619636535645,5.892159938812256,-22.357765197753906,24.416950225830078,-10.208999633789062,1.073091983795166,-2.8671724796295166,4.907151222229004,-7.607588768005371,-4.781811237335205,-9.551775932312012,25.908700942993164,-6.230020046234131,-17.18745231628418,14.464554786682129,23.312246322631836,28.42277717590332,-11.175091743469238,0.46233490109443665,-16.904285430908203,25.5950984954834,11.342906951904297,-29.04829978942871,-34.56233596801758,-26.896202087402344,-24.87331199645996,-0.8693773150444031,17.161495208740234,38.4440803527832,20.351863861083984,-22.385894775390625,21.36009407043457,9.333673477172852,-7.729740142822266,3.1685075759887695,23.316518783569336,21.12537956237793,8.357831954956055,30.67890739440918,-2.6363441944122314,38.63822555541992,2.398575782775879,-15.307424545288086,2.0064492225646973,4.76200008392334,-26.962722778320312,28.980533599853516,17.190547943115234,-14.920269012451172,15.80411148071289,-5.199893474578857,-0.5400740504264832,-11.24717903137207,-18.788272857666016,-15.216363906860352,-9.447664260864258,26.54924201965332,0.29850080609321594,-2.3312008380889893,3.0243752002716064,-14.996289253234863,-33.33751678466797,7.132770538330078,7.5863871574401855,-15.532508850097656,16.928329467773438,-4.815250396728516,-24.978872299194336,2.6500442028045654,-17.269102096557617,23.142702102661133,18.415332794189453,16.159135818481445,-12.170339584350586,5.137688636779785,-26.21284294128418,-19.641996383666992,-27.17758560180664,4.501203536987305,-14.844599723815918],\"type\":\"scatter3d\"}],                        {\"template\":{\"data\":{\"histogram2dcontour\":[{\"type\":\"histogram2dcontour\",\"colorbar\":{\"outlinewidth\":0,\"ticks\":\"\"},\"colorscale\":[[0.0,\"#0d0887\"],[0.1111111111111111,\"#46039f\"],[0.2222222222222222,\"#7201a8\"],[0.3333333333333333,\"#9c179e\"],[0.4444444444444444,\"#bd3786\"],[0.5555555555555556,\"#d8576b\"],[0.6666666666666666,\"#ed7953\"],[0.7777777777777778,\"#fb9f3a\"],[0.8888888888888888,\"#fdca26\"],[1.0,\"#f0f921\"]]}],\"choropleth\":[{\"type\":\"choropleth\",\"colorbar\":{\"outlinewidth\":0,\"ticks\":\"\"}}],\"histogram2d\":[{\"type\":\"histogram2d\",\"colorbar\":{\"outlinewidth\":0,\"ticks\":\"\"},\"colorscale\":[[0.0,\"#0d0887\"],[0.1111111111111111,\"#46039f\"],[0.2222222222222222,\"#7201a8\"],[0.3333333333333333,\"#9c179e\"],[0.4444444444444444,\"#bd3786\"],[0.5555555555555556,\"#d8576b\"],[0.6666666666666666,\"#ed7953\"],[0.7777777777777778,\"#fb9f3a\"],[0.8888888888888888,\"#fdca26\"],[1.0,\"#f0f921\"]]}],\"heatmap\":[{\"type\":\"heatmap\",\"colorbar\":{\"outlinewidth\":0,\"ticks\":\"\"},\"colorscale\":[[0.0,\"#0d0887\"],[0.1111111111111111,\"#46039f\"],[0.2222222222222222,\"#7201a8\"],[0.3333333333333333,\"#9c179e\"],[0.4444444444444444,\"#bd3786\"],[0.5555555555555556,\"#d8576b\"],[0.6666666666666666,\"#ed7953\"],[0.7777777777777778,\"#fb9f3a\"],[0.8888888888888888,\"#fdca26\"],[1.0,\"#f0f921\"]]}],\"heatmapgl\":[{\"type\":\"heatmapgl\",\"colorbar\":{\"outlinewidth\":0,\"ticks\":\"\"},\"colorscale\":[[0.0,\"#0d0887\"],[0.1111111111111111,\"#46039f\"],[0.2222222222222222,\"#7201a8\"],[0.3333333333333333,\"#9c179e\"],[0.4444444444444444,\"#bd3786\"],[0.5555555555555556,\"#d8576b\"],[0.6666666666666666,\"#ed7953\"],[0.7777777777777778,\"#fb9f3a\"],[0.8888888888888888,\"#fdca26\"],[1.0,\"#f0f921\"]]}],\"contourcarpet\":[{\"type\":\"contourcarpet\",\"colorbar\":{\"outlinewidth\":0,\"ticks\":\"\"}}],\"contour\":[{\"type\":\"contour\",\"colorbar\":{\"outlinewidth\":0,\"ticks\":\"\"},\"colorscale\":[[0.0,\"#0d0887\"],[0.1111111111111111,\"#46039f\"],[0.2222222222222222,\"#7201a8\"],[0.3333333333333333,\"#9c179e\"],[0.4444444444444444,\"#bd3786\"],[0.5555555555555556,\"#d8576b\"],[0.6666666666666666,\"#ed7953\"],[0.7777777777777778,\"#fb9f3a\"],[0.8888888888888888,\"#fdca26\"],[1.0,\"#f0f921\"]]}],\"surface\":[{\"type\":\"surface\",\"colorbar\":{\"outlinewidth\":0,\"ticks\":\"\"},\"colorscale\":[[0.0,\"#0d0887\"],[0.1111111111111111,\"#46039f\"],[0.2222222222222222,\"#7201a8\"],[0.3333333333333333,\"#9c179e\"],[0.4444444444444444,\"#bd3786\"],[0.5555555555555556,\"#d8576b\"],[0.6666666666666666,\"#ed7953\"],[0.7777777777777778,\"#fb9f3a\"],[0.8888888888888888,\"#fdca26\"],[1.0,\"#f0f921\"]]}],\"mesh3d\":[{\"type\":\"mesh3d\",\"colorbar\":{\"outlinewidth\":0,\"ticks\":\"\"}}],\"scatter\":[{\"fillpattern\":{\"fillmode\":\"overlay\",\"size\":10,\"solidity\":0.2},\"type\":\"scatter\"}],\"parcoords\":[{\"type\":\"parcoords\",\"line\":{\"colorbar\":{\"outlinewidth\":0,\"ticks\":\"\"}}}],\"scatterpolargl\":[{\"type\":\"scatterpolargl\",\"marker\":{\"colorbar\":{\"outlinewidth\":0,\"ticks\":\"\"}}}],\"bar\":[{\"error_x\":{\"color\":\"#2a3f5f\"},\"error_y\":{\"color\":\"#2a3f5f\"},\"marker\":{\"line\":{\"color\":\"#E5ECF6\",\"width\":0.5},\"pattern\":{\"fillmode\":\"overlay\",\"size\":10,\"solidity\":0.2}},\"type\":\"bar\"}],\"scattergeo\":[{\"type\":\"scattergeo\",\"marker\":{\"colorbar\":{\"outlinewidth\":0,\"ticks\":\"\"}}}],\"scatterpolar\":[{\"type\":\"scatterpolar\",\"marker\":{\"colorbar\":{\"outlinewidth\":0,\"ticks\":\"\"}}}],\"histogram\":[{\"marker\":{\"pattern\":{\"fillmode\":\"overlay\",\"size\":10,\"solidity\":0.2}},\"type\":\"histogram\"}],\"scattergl\":[{\"type\":\"scattergl\",\"marker\":{\"colorbar\":{\"outlinewidth\":0,\"ticks\":\"\"}}}],\"scatter3d\":[{\"type\":\"scatter3d\",\"line\":{\"colorbar\":{\"outlinewidth\":0,\"ticks\":\"\"}},\"marker\":{\"colorbar\":{\"outlinewidth\":0,\"ticks\":\"\"}}}],\"scattermapbox\":[{\"type\":\"scattermapbox\",\"marker\":{\"colorbar\":{\"outlinewidth\":0,\"ticks\":\"\"}}}],\"scatterternary\":[{\"type\":\"scatterternary\",\"marker\":{\"colorbar\":{\"outlinewidth\":0,\"ticks\":\"\"}}}],\"scattercarpet\":[{\"type\":\"scattercarpet\",\"marker\":{\"colorbar\":{\"outlinewidth\":0,\"ticks\":\"\"}}}],\"carpet\":[{\"aaxis\":{\"endlinecolor\":\"#2a3f5f\",\"gridcolor\":\"white\",\"linecolor\":\"white\",\"minorgridcolor\":\"white\",\"startlinecolor\":\"#2a3f5f\"},\"baxis\":{\"endlinecolor\":\"#2a3f5f\",\"gridcolor\":\"white\",\"linecolor\":\"white\",\"minorgridcolor\":\"white\",\"startlinecolor\":\"#2a3f5f\"},\"type\":\"carpet\"}],\"table\":[{\"cells\":{\"fill\":{\"color\":\"#EBF0F8\"},\"line\":{\"color\":\"white\"}},\"header\":{\"fill\":{\"color\":\"#C8D4E3\"},\"line\":{\"color\":\"white\"}},\"type\":\"table\"}],\"barpolar\":[{\"marker\":{\"line\":{\"color\":\"#E5ECF6\",\"width\":0.5},\"pattern\":{\"fillmode\":\"overlay\",\"size\":10,\"solidity\":0.2}},\"type\":\"barpolar\"}],\"pie\":[{\"automargin\":true,\"type\":\"pie\"}]},\"layout\":{\"autotypenumbers\":\"strict\",\"colorway\":[\"#636efa\",\"#EF553B\",\"#00cc96\",\"#ab63fa\",\"#FFA15A\",\"#19d3f3\",\"#FF6692\",\"#B6E880\",\"#FF97FF\",\"#FECB52\"],\"font\":{\"color\":\"#2a3f5f\"},\"hovermode\":\"closest\",\"hoverlabel\":{\"align\":\"left\"},\"paper_bgcolor\":\"white\",\"plot_bgcolor\":\"#E5ECF6\",\"polar\":{\"bgcolor\":\"#E5ECF6\",\"angularaxis\":{\"gridcolor\":\"white\",\"linecolor\":\"white\",\"ticks\":\"\"},\"radialaxis\":{\"gridcolor\":\"white\",\"linecolor\":\"white\",\"ticks\":\"\"}},\"ternary\":{\"bgcolor\":\"#E5ECF6\",\"aaxis\":{\"gridcolor\":\"white\",\"linecolor\":\"white\",\"ticks\":\"\"},\"baxis\":{\"gridcolor\":\"white\",\"linecolor\":\"white\",\"ticks\":\"\"},\"caxis\":{\"gridcolor\":\"white\",\"linecolor\":\"white\",\"ticks\":\"\"}},\"coloraxis\":{\"colorbar\":{\"outlinewidth\":0,\"ticks\":\"\"}},\"colorscale\":{\"sequential\":[[0.0,\"#0d0887\"],[0.1111111111111111,\"#46039f\"],[0.2222222222222222,\"#7201a8\"],[0.3333333333333333,\"#9c179e\"],[0.4444444444444444,\"#bd3786\"],[0.5555555555555556,\"#d8576b\"],[0.6666666666666666,\"#ed7953\"],[0.7777777777777778,\"#fb9f3a\"],[0.8888888888888888,\"#fdca26\"],[1.0,\"#f0f921\"]],\"sequentialminus\":[[0.0,\"#0d0887\"],[0.1111111111111111,\"#46039f\"],[0.2222222222222222,\"#7201a8\"],[0.3333333333333333,\"#9c179e\"],[0.4444444444444444,\"#bd3786\"],[0.5555555555555556,\"#d8576b\"],[0.6666666666666666,\"#ed7953\"],[0.7777777777777778,\"#fb9f3a\"],[0.8888888888888888,\"#fdca26\"],[1.0,\"#f0f921\"]],\"diverging\":[[0,\"#8e0152\"],[0.1,\"#c51b7d\"],[0.2,\"#de77ae\"],[0.3,\"#f1b6da\"],[0.4,\"#fde0ef\"],[0.5,\"#f7f7f7\"],[0.6,\"#e6f5d0\"],[0.7,\"#b8e186\"],[0.8,\"#7fbc41\"],[0.9,\"#4d9221\"],[1,\"#276419\"]]},\"xaxis\":{\"gridcolor\":\"white\",\"linecolor\":\"white\",\"ticks\":\"\",\"title\":{\"standoff\":15},\"zerolinecolor\":\"white\",\"automargin\":true,\"zerolinewidth\":2},\"yaxis\":{\"gridcolor\":\"white\",\"linecolor\":\"white\",\"ticks\":\"\",\"title\":{\"standoff\":15},\"zerolinecolor\":\"white\",\"automargin\":true,\"zerolinewidth\":2},\"scene\":{\"xaxis\":{\"backgroundcolor\":\"#E5ECF6\",\"gridcolor\":\"white\",\"linecolor\":\"white\",\"showbackground\":true,\"ticks\":\"\",\"zerolinecolor\":\"white\",\"gridwidth\":2},\"yaxis\":{\"backgroundcolor\":\"#E5ECF6\",\"gridcolor\":\"white\",\"linecolor\":\"white\",\"showbackground\":true,\"ticks\":\"\",\"zerolinecolor\":\"white\",\"gridwidth\":2},\"zaxis\":{\"backgroundcolor\":\"#E5ECF6\",\"gridcolor\":\"white\",\"linecolor\":\"white\",\"showbackground\":true,\"ticks\":\"\",\"zerolinecolor\":\"white\",\"gridwidth\":2}},\"shapedefaults\":{\"line\":{\"color\":\"#2a3f5f\"}},\"annotationdefaults\":{\"arrowcolor\":\"#2a3f5f\",\"arrowhead\":0,\"arrowwidth\":1},\"geo\":{\"bgcolor\":\"white\",\"landcolor\":\"#E5ECF6\",\"subunitcolor\":\"white\",\"showland\":true,\"showlakes\":true,\"lakecolor\":\"white\"},\"title\":{\"x\":0.05},\"mapbox\":{\"style\":\"light\"}}},\"scene\":{\"domain\":{\"x\":[0.0,1.0],\"y\":[0.0,1.0]},\"xaxis\":{\"title\":{\"text\":\"x\"}},\"yaxis\":{\"title\":{\"text\":\"y\"}},\"zaxis\":{\"title\":{\"text\":\"z\"}}},\"legend\":{\"tracegroupgap\":0},\"margin\":{\"t\":60}},                        {\"responsive\": true}                    ).then(function(){\n",
              "                            \n",
              "var gd = document.getElementById('97eb4cc7-6059-4cc9-84cd-fb9b1b89ad55');\n",
              "var x = new MutationObserver(function (mutations, observer) {{\n",
              "        var display = window.getComputedStyle(gd).display;\n",
              "        if (!display || display === 'none') {{\n",
              "            console.log([gd, 'removed!']);\n",
              "            Plotly.purge(gd);\n",
              "            observer.disconnect();\n",
              "        }}\n",
              "}});\n",
              "\n",
              "// Listen for the removal of the full notebook cells\n",
              "var notebookContainer = gd.closest('#notebook-container');\n",
              "if (notebookContainer) {{\n",
              "    x.observe(notebookContainer, {childList: true});\n",
              "}}\n",
              "\n",
              "// Listen for the clearing of the current output cell\n",
              "var outputEl = gd.closest('.output');\n",
              "if (outputEl) {{\n",
              "    x.observe(outputEl, {childList: true});\n",
              "}}\n",
              "\n",
              "                        })                };                            </script>        </div>\n",
              "</body>\n",
              "</html>"
            ]
          },
          "metadata": {}
        }
      ],
      "source": [
        "# Graficar los embedddings en 3D\n",
        "\n",
        "vecs, labels = reduce_dimensions(w2v_model,3)\n",
        "\n",
        "fig = px.scatter_3d(x=vecs[:MAX_WORDS,0], y=vecs[:MAX_WORDS,1], z=vecs[:MAX_WORDS,2],text=labels[:MAX_WORDS])\n",
        "fig.update_traces(marker_size = 2)\n",
        "fig.show(renderer=\"colab\") # esto para plotly en colab"
      ]
    },
    {
      "cell_type": "code",
      "execution_count": 25,
      "metadata": {
        "id": "fGG6y6HNA9Wa"
      },
      "outputs": [],
      "source": [
        "# También se pueden guardar los vectores y labels como tsv para graficar en\n",
        "# http://projector.tensorflow.org/\n",
        "\n",
        "\n",
        "vectors = np.asarray(w2v_model.wv.vectors)\n",
        "labels = list(w2v_model.wv.index_to_key)\n",
        "\n",
        "np.savetxt(\"vectors.tsv\", vectors, delimiter=\"\\t\")\n",
        "\n",
        "with open(\"labels.tsv\", \"w\") as fp:\n",
        "    for item in labels:\n",
        "        fp.write(\"%s\\n\" % item)"
      ]
    },
    {
      "cell_type": "markdown",
      "metadata": {
        "id": "yMM_SHSaZ9N-"
      },
      "source": [
        "# Alumno"
      ]
    },
    {
      "cell_type": "markdown",
      "metadata": {
        "id": "WivQZ3ZCZ9N_"
      },
      "source": [
        "- Crear sus propios vectores con Gensim basado en lo visto en clase con otro dataset.\n",
        "- Probar términos de interés y explicar similitudes en el espacio de embeddings (sacar conclusiones entre palabras similitudes y diferencias).\n",
        "- Graficarlos.\n",
        "- Obtener conclusiones."
      ]
    },
    {
      "cell_type": "markdown",
      "source": [
        "## 1 -  Preprocesamiento"
      ],
      "metadata": {
        "id": "4BwY5z-hYvf5"
      }
    },
    {
      "cell_type": "code",
      "source": [
        "#import os\n",
        "#import platform\n",
        "\n",
        "# Verifica si el archivo PDF ya está descargado\n",
        "if os.access('./Jane Austen - Orgullo y Prejuicio.pdf', os.F_OK) is False:\n",
        "    # Verifica si el archivo PDF ya está descargado\n",
        "    if os.access('orgullo_y_prejuicio.pdf', os.F_OK) is False:\n",
        "        # Descargar el archivo según el sistema operativo\n",
        "        if platform.system() == 'Windows':\n",
        "            !curl -L -o orgullo_y_prejuicio.pdf https://github.com/JossySoo/natural_language_processing_excercises/raw/main/Data/Jane%20Austen%20-%20Orgullo%20y%20Prejuicio.pdf\n",
        "        else:\n",
        "            !wget -O orgullo_y_prejuicio.pdf https://github.com/JossySoo/natural_language_processing_excercises/raw/main/Data/Jane%20Austen%20-%20Orgullo%20y%20Prejuicio.pdf\n",
        "else:\n",
        "    print(\"El PDF ya se encuentra descargado\")\n"
      ],
      "metadata": {
        "id": "507Rl390MDVH",
        "outputId": "904b2ead-c191-4787-c78d-6b6a07183c6c",
        "colab": {
          "base_uri": "https://localhost:8080/"
        }
      },
      "execution_count": 26,
      "outputs": [
        {
          "output_type": "stream",
          "name": "stdout",
          "text": [
            "--2024-05-24 22:09:47--  https://github.com/JossySoo/natural_language_processing_excercises/raw/main/Data/Jane%20Austen%20-%20Orgullo%20y%20Prejuicio.pdf\n",
            "Resolving github.com (github.com)... 20.27.177.113\n",
            "Connecting to github.com (github.com)|20.27.177.113|:443... connected.\n",
            "HTTP request sent, awaiting response... 302 Found\n",
            "Location: https://raw.githubusercontent.com/JossySoo/natural_language_processing_excercises/main/Data/Jane%20Austen%20-%20Orgullo%20y%20Prejuicio.pdf [following]\n",
            "--2024-05-24 22:09:47--  https://raw.githubusercontent.com/JossySoo/natural_language_processing_excercises/main/Data/Jane%20Austen%20-%20Orgullo%20y%20Prejuicio.pdf\n",
            "Resolving raw.githubusercontent.com (raw.githubusercontent.com)... 185.199.108.133, 185.199.109.133, 185.199.110.133, ...\n",
            "Connecting to raw.githubusercontent.com (raw.githubusercontent.com)|185.199.108.133|:443... connected.\n",
            "HTTP request sent, awaiting response... 200 OK\n",
            "Length: 609042 (595K) [application/octet-stream]\n",
            "Saving to: ‘orgullo_y_prejuicio.pdf’\n",
            "\n",
            "orgullo_y_prejuicio 100%[===================>] 594.77K  3.37MB/s    in 0.2s    \n",
            "\n",
            "2024-05-24 22:09:48 (3.37 MB/s) - ‘orgullo_y_prejuicio.pdf’ saved [609042/609042]\n",
            "\n"
          ]
        }
      ]
    },
    {
      "cell_type": "code",
      "source": [
        "print(\"Tamaño del archivo descargado:\", os.path.getsize(\"orgullo_y_prejuicio.pdf\"), \"bytes\")"
      ],
      "metadata": {
        "id": "RhJNWExJP-91",
        "outputId": "ad926835-d84e-4a9d-d337-9ac67f959f65",
        "colab": {
          "base_uri": "https://localhost:8080/"
        }
      },
      "execution_count": 27,
      "outputs": [
        {
          "output_type": "stream",
          "name": "stdout",
          "text": [
            "Tamaño del archivo descargado: 609042 bytes\n"
          ]
        }
      ]
    },
    {
      "cell_type": "code",
      "source": [
        "!pip install pymupdf"
      ],
      "metadata": {
        "id": "1L43BoInPALq",
        "outputId": "3c830321-e7e4-41ad-913a-fb70fd53c174",
        "colab": {
          "base_uri": "https://localhost:8080/"
        }
      },
      "execution_count": 28,
      "outputs": [
        {
          "output_type": "stream",
          "name": "stdout",
          "text": [
            "Collecting pymupdf\n",
            "  Downloading PyMuPDF-1.24.4-cp310-none-manylinux2014_x86_64.whl (3.5 MB)\n",
            "\u001b[2K     \u001b[90m━━━━━━━━━━━━━━━━━━━━━━━━━━━━━━━━━━━━━━━━\u001b[0m \u001b[32m3.5/3.5 MB\u001b[0m \u001b[31m21.0 MB/s\u001b[0m eta \u001b[36m0:00:00\u001b[0m\n",
            "\u001b[?25hCollecting PyMuPDFb==1.24.3 (from pymupdf)\n",
            "  Downloading PyMuPDFb-1.24.3-py3-none-manylinux2014_x86_64.manylinux_2_17_x86_64.whl (15.8 MB)\n",
            "\u001b[2K     \u001b[90m━━━━━━━━━━━━━━━━━━━━━━━━━━━━━━━━━━━━━━━━\u001b[0m \u001b[32m15.8/15.8 MB\u001b[0m \u001b[31m64.5 MB/s\u001b[0m eta \u001b[36m0:00:00\u001b[0m\n",
            "\u001b[?25hInstalling collected packages: PyMuPDFb, pymupdf\n",
            "Successfully installed PyMuPDFb-1.24.3 pymupdf-1.24.4\n"
          ]
        }
      ]
    },
    {
      "cell_type": "code",
      "source": [
        "import fitz  # PyMuPDF\n",
        "\n",
        "# Leer el PDF y extraer el texto\n",
        "pdf_document = \"orgullo_y_prejuicio.pdf\"\n",
        "doc = fitz.open(pdf_document)\n",
        "text = \"\"\n",
        "for page_num in range(doc.page_count):\n",
        "    page = doc.load_page(page_num)\n",
        "    text += page.get_text()\n",
        "\n",
        "# Mostrar el texto extraído (opcional)\n",
        "print(text[:1000])  # Muestra los primeros 1000 caracteres\n",
        "\n",
        "# Guardar el texto extraído en un archivo de texto\n",
        "with open(\"orgullo_y_prejuicio.txt\", \"w\", encoding=\"utf-8\") as text_file:\n",
        "    text_file.write(text)\n"
      ],
      "metadata": {
        "id": "hSVVCxJWOx_h",
        "outputId": "cb6df930-fac2-45c6-b019-d5e4e7d5bb83",
        "colab": {
          "base_uri": "https://localhost:8080/"
        }
      },
      "execution_count": 29,
      "outputs": [
        {
          "output_type": "stream",
          "name": "stdout",
          "text": [
            "Orgullo y Prejuicio\n",
            "Jane Austen\n",
            "textos.info\n",
            "Biblioteca digital abierta\n",
            "1\n",
            "Texto núm. 3006\n",
            "Título: Orgullo y Prejuicio\n",
            "Autor: Jane Austen\n",
            "Etiquetas: Novela\n",
            "Editor: Edu Robsy\n",
            "Fecha de creación: 7 de noviembre de 2017\n",
            "Fecha de modificación: 7 de noviembre de 2017\n",
            "Edita textos.info\n",
            "Maison Carrée\n",
            "c/ Ramal, 48\n",
            "07730 Alayor - Menorca\n",
            "Islas Baleares\n",
            "España\n",
            "Más textos disponibles en http://www.textos.info\n",
            "2\n",
            "Capítulo I\n",
            "Es una verdad mundialmente reconocida que un hombre soltero, poseedor \n",
            "de una gran fortuna, necesita una esposa.\n",
            "Sin embargo, poco se sabe de los sentimientos u opiniones de un hombre \n",
            "de tales condiciones cuando entra a formar parte de un vecindario. Esta \n",
            "verdad está tan arraigada en las mentes de algunas de las familias que lo \n",
            "rodean, que algunas le consideran de su legítima propiedad y otras de la \n",
            "de sus hijas.\n",
            "—Mi querido señor Bennet —le dijo un día su esposa—, ¿sabías que, por \n",
            "fin, se ha alquilado Netherfield Park?\n",
            "El señor Bennet respondió que no.\n",
            "—Pues así es —insistió \n"
          ]
        }
      ]
    },
    {
      "cell_type": "code",
      "source": [
        "import re\n",
        "\n",
        "# Leer el archivo de texto\n",
        "with open(\"orgullo_y_prejuicio.txt\", \"r\", encoding=\"utf-8\") as file:\n",
        "    text = file.read()\n",
        "\n",
        "# Limpieza básica del texto\n",
        "text = text.lower()\n",
        "text = re.sub(r'\\s+', ' ', text)  # Reemplaza múltiples espacios por uno solo\n",
        "text = re.sub(r'[^a-záéíóúüñ\\s.?!]', '', text)  # Elimina caracteres no alfabéticos excepto vocales con tildes y eñes\n",
        "\n",
        "# Tokenizar el texto en oraciones usando el punto como delimitador\n",
        "sentences = re.split(r'(?<=[.?!])\\s+', text)\n",
        "\n",
        "# Guardar cada oración en una nueva línea\n",
        "with open(\"orgullo_y_prejuicio_clean.txt\", \"w\", encoding=\"utf-8\") as text_file:\n",
        "    for sentence in sentences:\n",
        "        text_file.write(sentence + '\\n')\n"
      ],
      "metadata": {
        "id": "VeGPjSwnSW9x"
      },
      "execution_count": 30,
      "outputs": []
    },
    {
      "cell_type": "code",
      "source": [
        "# Leer el archivo de texto línea por línea usando pandas\n",
        "df = pd.read_csv('orgullo_y_prejuicio_clean.txt', sep='/n', header=None, names=['sentence'])\n",
        "print(df.head(25))"
      ],
      "metadata": {
        "id": "Cq9grHDlXF6-",
        "outputId": "833ea9df-3617-4eec-95e1-727953de0340",
        "colab": {
          "base_uri": "https://localhost:8080/"
        }
      },
      "execution_count": 31,
      "outputs": [
        {
          "output_type": "stream",
          "name": "stdout",
          "text": [
            "                                             sentence\n",
            "0   orgullo y prejuicio jane austen textos.info bi...\n",
            "1   título orgullo y prejuicio autor jane austen e...\n",
            "2   sin embargo poco se sabe de los sentimientos u...\n",
            "3   esta verdad está tan arraigada en las mentes d...\n",
            "4   mi querido señor bennet le dijo un día su espo...\n",
            "5                   el señor bennet respondió que no.\n",
            "6   pues así es insistió ella la señora long ha es...\n",
            "7        el señor bennet no hizo ademán de contestar.\n",
            "8             no quieres saber quién lo ha alquilado?\n",
            "9                            se impacientó su esposa.\n",
            "10  eres tú la que quieres contármelo y yo no teng...\n",
            "11                 esta sugerencia le fue suficiente.\n",
            "12  pues sabrás querido que la señora long dice qu...\n",
            "13                                     cómo se llama?\n",
            "14                                           bingley.\n",
            "15                             está casado o soltero?\n",
            "16                                                oh!\n",
            "17                      soltero querido por supuesto.\n",
            "18  un hombre soltero y de gran fortuna cuatro o c...\n",
            "19              qué buen partido para nuestras hijas!\n",
            "20                                             y qué?\n",
            "21                           en qué puede afectarles?\n",
            "22  mi querido señor bennet contestó su esposa cóm...\n",
            "23  debes saber que estoy pensando en casarlo con ...\n",
            "24                 es ese el motivo que le ha traído?\n"
          ]
        },
        {
          "output_type": "stream",
          "name": "stderr",
          "text": [
            "<ipython-input-31-1cab1fe38691>:2: ParserWarning:\n",
            "\n",
            "Falling back to the 'python' engine because the 'c' engine does not support regex separators (separators > 1 char and different from '\\s+' are interpreted as regex); you can avoid this warning by specifying engine='python'.\n",
            "\n"
          ]
        }
      ]
    },
    {
      "cell_type": "code",
      "source": [
        "print(\"Cantidad de documentos:\", df.shape[0])"
      ],
      "metadata": {
        "id": "YzJg6wcbaZkP",
        "outputId": "f16e1be5-7789-4258-d6bf-dd4f0fea102e",
        "colab": {
          "base_uri": "https://localhost:8080/"
        }
      },
      "execution_count": 32,
      "outputs": [
        {
          "output_type": "stream",
          "name": "stdout",
          "text": [
            "Cantidad de documentos: 6185\n"
          ]
        }
      ]
    },
    {
      "cell_type": "code",
      "source": [
        "from keras.preprocessing.text import text_to_word_sequence\n",
        "\n",
        "sentence_tokens = []\n",
        "# Recorrer todas las filas y transformar las oraciones\n",
        "# en una secuencia de palabras (esto podría realizarse con NLTK o spaCy también)\n",
        "for _, row in df[:None].iterrows():\n",
        "    sentence_tokens.append(text_to_word_sequence(row[0]))"
      ],
      "metadata": {
        "id": "N9rLGtRKasq2"
      },
      "execution_count": 33,
      "outputs": []
    },
    {
      "cell_type": "code",
      "source": [
        "sentence_tokens[:5]"
      ],
      "metadata": {
        "id": "6UEUlaH8avZy",
        "outputId": "b3f03f21-c01d-495f-dddc-8767791becca",
        "colab": {
          "base_uri": "https://localhost:8080/"
        }
      },
      "execution_count": 34,
      "outputs": [
        {
          "output_type": "execute_result",
          "data": {
            "text/plain": [
              "[['orgullo',\n",
              "  'y',\n",
              "  'prejuicio',\n",
              "  'jane',\n",
              "  'austen',\n",
              "  'textos',\n",
              "  'info',\n",
              "  'biblioteca',\n",
              "  'digital',\n",
              "  'abierta',\n",
              "  'texto',\n",
              "  'núm'],\n",
              " ['título',\n",
              "  'orgullo',\n",
              "  'y',\n",
              "  'prejuicio',\n",
              "  'autor',\n",
              "  'jane',\n",
              "  'austen',\n",
              "  'etiquetas',\n",
              "  'novela',\n",
              "  'editor',\n",
              "  'edu',\n",
              "  'robsy',\n",
              "  'fecha',\n",
              "  'de',\n",
              "  'creación',\n",
              "  'de',\n",
              "  'noviembre',\n",
              "  'de',\n",
              "  'fecha',\n",
              "  'de',\n",
              "  'modificación',\n",
              "  'de',\n",
              "  'noviembre',\n",
              "  'de',\n",
              "  'edita',\n",
              "  'textos',\n",
              "  'info',\n",
              "  'maison',\n",
              "  'carrée',\n",
              "  'c',\n",
              "  'ramal',\n",
              "  'alayor',\n",
              "  'menorca',\n",
              "  'islas',\n",
              "  'baleares',\n",
              "  'españa',\n",
              "  'más',\n",
              "  'textos',\n",
              "  'disponibles',\n",
              "  'en',\n",
              "  'httpwww',\n",
              "  'textos',\n",
              "  'info',\n",
              "  'capítulo',\n",
              "  'i',\n",
              "  'es',\n",
              "  'una',\n",
              "  'verdad',\n",
              "  'mundialmente',\n",
              "  'reconocida',\n",
              "  'que',\n",
              "  'un',\n",
              "  'hombre',\n",
              "  'soltero',\n",
              "  'poseedor',\n",
              "  'de',\n",
              "  'una',\n",
              "  'gran',\n",
              "  'fortuna',\n",
              "  'necesita',\n",
              "  'una',\n",
              "  'esposa'],\n",
              " ['sin',\n",
              "  'embargo',\n",
              "  'poco',\n",
              "  'se',\n",
              "  'sabe',\n",
              "  'de',\n",
              "  'los',\n",
              "  'sentimientos',\n",
              "  'u',\n",
              "  'opiniones',\n",
              "  'de',\n",
              "  'un',\n",
              "  'hombre',\n",
              "  'de',\n",
              "  'tales',\n",
              "  'condiciones',\n",
              "  'cuando',\n",
              "  'entra',\n",
              "  'a',\n",
              "  'formar',\n",
              "  'parte',\n",
              "  'de',\n",
              "  'un',\n",
              "  'vecindario'],\n",
              " ['esta',\n",
              "  'verdad',\n",
              "  'está',\n",
              "  'tan',\n",
              "  'arraigada',\n",
              "  'en',\n",
              "  'las',\n",
              "  'mentes',\n",
              "  'de',\n",
              "  'algunas',\n",
              "  'de',\n",
              "  'las',\n",
              "  'familias',\n",
              "  'que',\n",
              "  'lo',\n",
              "  'rodean',\n",
              "  'que',\n",
              "  'algunas',\n",
              "  'le',\n",
              "  'consideran',\n",
              "  'de',\n",
              "  'su',\n",
              "  'legítima',\n",
              "  'propiedad',\n",
              "  'y',\n",
              "  'otras',\n",
              "  'de',\n",
              "  'la',\n",
              "  'de',\n",
              "  'sus',\n",
              "  'hijas'],\n",
              " ['mi',\n",
              "  'querido',\n",
              "  'señor',\n",
              "  'bennet',\n",
              "  'le',\n",
              "  'dijo',\n",
              "  'un',\n",
              "  'día',\n",
              "  'su',\n",
              "  'esposa',\n",
              "  'sabías',\n",
              "  'que',\n",
              "  'por',\n",
              "  'fin',\n",
              "  'se',\n",
              "  'ha',\n",
              "  'alquilado',\n",
              "  'netherfield',\n",
              "  'park']]"
            ]
          },
          "metadata": {},
          "execution_count": 34
        }
      ]
    },
    {
      "cell_type": "markdown",
      "source": [
        "## 2 - Crear los vectores (word2vec)"
      ],
      "metadata": {
        "id": "W4vnD42nZBft"
      }
    },
    {
      "cell_type": "code",
      "source": [
        "from gensim.models.callbacks import CallbackAny2Vec\n",
        "# Durante el entrenamiento gensim por defecto no informa el \"loss\" en cada época\n",
        "# Sobrecargamos el callback para poder tener esta información\n",
        "class callback(CallbackAny2Vec):\n",
        "    \"\"\"\n",
        "    Callback to print loss after each epoch\n",
        "    \"\"\"\n",
        "    def __init__(self):\n",
        "        self.epoch = 0\n",
        "\n",
        "    def on_epoch_end(self, model):\n",
        "        loss = model.get_latest_training_loss()\n",
        "        if self.epoch == 0:\n",
        "            print('Loss after epoch {}: {}'.format(self.epoch, loss))\n",
        "        else:\n",
        "            print('Loss after epoch {}: {}'.format(self.epoch, loss- self.loss_previous_step))\n",
        "        self.epoch += 1\n",
        "        self.loss_previous_step = loss"
      ],
      "metadata": {
        "id": "YYCsmh4PZMF_"
      },
      "execution_count": 35,
      "outputs": []
    },
    {
      "cell_type": "code",
      "source": [
        "# Crearmos el modelo generador de vectores\n",
        "# En este caso utilizaremos la estructura modelo Skipgram\n",
        "w2v_model = Word2Vec(min_count=5,    # frecuencia mínima de palabra para incluirla en el vocabulario\n",
        "                     window=2,       # cant de palabras antes y desp de la predicha\n",
        "                     vector_size=100,       # dimensionalidad de los vectores\n",
        "                     negative=20,    # cantidad de negative samples... 0 es no se usa\n",
        "                     workers=1,      # si tienen más cores pueden cambiar este valor\n",
        "                     sg=1)           # modelo 0:CBOW  1:skipgram"
      ],
      "metadata": {
        "id": "-P49pvJIZZn6"
      },
      "execution_count": 36,
      "outputs": []
    },
    {
      "cell_type": "code",
      "source": [
        "# Obtener el vocabulario con los tokens\n",
        "w2v_model.build_vocab(sentence_tokens)"
      ],
      "metadata": {
        "id": "uX6gQaK6aqAx"
      },
      "execution_count": 37,
      "outputs": []
    },
    {
      "cell_type": "code",
      "source": [
        "# Cantidad de filas/docs encontradas en el corpus\n",
        "print(\"Cantidad de docs en el corpus:\", w2v_model.corpus_count)"
      ],
      "metadata": {
        "id": "H18i5I5pcu1F",
        "outputId": "c8e91dad-31c1-4266-ecba-e2ef31d91ffe",
        "colab": {
          "base_uri": "https://localhost:8080/"
        }
      },
      "execution_count": 38,
      "outputs": [
        {
          "output_type": "stream",
          "name": "stdout",
          "text": [
            "Cantidad de docs en el corpus: 6185\n"
          ]
        }
      ]
    },
    {
      "cell_type": "code",
      "source": [
        "# Cantidad de words encontradas en el corpus\n",
        "print(\"Cantidad de words distintas en el corpus:\", len(w2v_model.wv.index_to_key))"
      ],
      "metadata": {
        "id": "iDQyoN-Rd4Bm",
        "outputId": "ee356260-f040-49f4-da81-50600935cef1",
        "colab": {
          "base_uri": "https://localhost:8080/"
        }
      },
      "execution_count": 39,
      "outputs": [
        {
          "output_type": "stream",
          "name": "stdout",
          "text": [
            "Cantidad de words distintas en el corpus: 2141\n"
          ]
        }
      ]
    },
    {
      "cell_type": "markdown",
      "source": [
        "## 3 - Entrenar embeddings"
      ],
      "metadata": {
        "id": "hX4aCqEveAYL"
      }
    },
    {
      "cell_type": "code",
      "source": [
        "# Entrenamos el modelo generador de vectores\n",
        "# Utilizamos nuestro callback\n",
        "np.random.seed(55)\n",
        "w2v_model.train(sentence_tokens,\n",
        "                 total_examples=w2v_model.corpus_count,\n",
        "                 epochs=50,\n",
        "                 compute_loss = True,\n",
        "                 callbacks=[callback()]\n",
        "                 )"
      ],
      "metadata": {
        "id": "kiMrVPCpeBbL",
        "outputId": "5fea8f01-2998-45d2-ea62-b8453b583465",
        "colab": {
          "base_uri": "https://localhost:8080/"
        }
      },
      "execution_count": 41,
      "outputs": [
        {
          "output_type": "stream",
          "name": "stdout",
          "text": [
            "Loss after epoch 0: 903263.1875\n",
            "Loss after epoch 1: 647614.6875\n",
            "Loss after epoch 2: 608220.625\n",
            "Loss after epoch 3: 528824.0\n",
            "Loss after epoch 4: 526748.0\n",
            "Loss after epoch 5: 523616.0\n",
            "Loss after epoch 6: 515840.5\n",
            "Loss after epoch 7: 486603.0\n",
            "Loss after epoch 8: 483531.5\n",
            "Loss after epoch 9: 479954.0\n",
            "Loss after epoch 10: 474597.5\n",
            "Loss after epoch 11: 474081.0\n",
            "Loss after epoch 12: 469917.0\n",
            "Loss after epoch 13: 463764.0\n",
            "Loss after epoch 14: 461409.5\n",
            "Loss after epoch 15: 454052.5\n",
            "Loss after epoch 16: 435491.0\n",
            "Loss after epoch 17: 433866.0\n",
            "Loss after epoch 18: 431078.0\n",
            "Loss after epoch 19: 429495.0\n",
            "Loss after epoch 20: 424878.0\n",
            "Loss after epoch 21: 424384.0\n",
            "Loss after epoch 22: 422503.0\n",
            "Loss after epoch 23: 418818.0\n",
            "Loss after epoch 24: 417541.0\n",
            "Loss after epoch 25: 416008.0\n",
            "Loss after epoch 26: 414963.0\n",
            "Loss after epoch 27: 412059.0\n",
            "Loss after epoch 28: 410941.0\n",
            "Loss after epoch 29: 410182.0\n",
            "Loss after epoch 30: 410249.0\n",
            "Loss after epoch 31: 406825.0\n",
            "Loss after epoch 32: 405570.0\n",
            "Loss after epoch 33: 404763.0\n",
            "Loss after epoch 34: 403857.0\n",
            "Loss after epoch 35: 398842.0\n",
            "Loss after epoch 36: 379664.0\n",
            "Loss after epoch 37: 380318.0\n",
            "Loss after epoch 38: 380300.0\n",
            "Loss after epoch 39: 381100.0\n",
            "Loss after epoch 40: 377028.0\n",
            "Loss after epoch 41: 375562.0\n",
            "Loss after epoch 42: 376782.0\n",
            "Loss after epoch 43: 374924.0\n",
            "Loss after epoch 44: 374866.0\n",
            "Loss after epoch 45: 374036.0\n",
            "Loss after epoch 46: 372808.0\n",
            "Loss after epoch 47: 372054.0\n",
            "Loss after epoch 48: 372478.0\n",
            "Loss after epoch 49: 373270.0\n"
          ]
        },
        {
          "output_type": "execute_result",
          "data": {
            "text/plain": [
              "(3343706, 5756900)"
            ]
          },
          "metadata": {},
          "execution_count": 41
        }
      ]
    },
    {
      "cell_type": "markdown",
      "source": [
        "## 4 - Ensayar"
      ],
      "metadata": {
        "id": "-T8vlw9ChCLc"
      }
    },
    {
      "cell_type": "code",
      "source": [
        "# Palabras que MÁS se relacionan con...:\n",
        "w2v_model.wv.most_similar(positive=[\"prejuicio\"], topn=10)"
      ],
      "metadata": {
        "id": "96ipOop9efia",
        "outputId": "84bfaa11-b25e-4d25-9425-93eb20951ca2",
        "colab": {
          "base_uri": "https://localhost:8080/"
        }
      },
      "execution_count": 42,
      "outputs": [
        {
          "output_type": "execute_result",
          "data": {
            "text/plain": [
              "[('siente', 0.6261991262435913),\n",
              " ('indignación', 0.5521978735923767),\n",
              " ('significaba', 0.5480401515960693),\n",
              " ('influencia', 0.5460621118545532),\n",
              " ('abominable', 0.5404924750328064),\n",
              " ('pariente', 0.5353097319602966),\n",
              " ('profunda', 0.5310643911361694),\n",
              " ('dignidad', 0.5240452289581299),\n",
              " ('consejo', 0.5206248760223389),\n",
              " ('modestia', 0.5198466181755066)]"
            ]
          },
          "metadata": {},
          "execution_count": 42
        }
      ]
    },
    {
      "cell_type": "code",
      "source": [
        "w2v_model.wv.most_similar(positive=[\"darcy\"], topn=10)"
      ],
      "metadata": {
        "id": "JLVtP509fAfm",
        "outputId": "192fa447-b1c9-418a-ce0c-121ed9687f3c",
        "colab": {
          "base_uri": "https://localhost:8080/"
        }
      },
      "execution_count": 43,
      "outputs": [
        {
          "output_type": "execute_result",
          "data": {
            "text/plain": [
              "[('y', 0.5229238867759705),\n",
              " ('administrador', 0.5095698833465576),\n",
              " ('jones', 0.5032007098197937),\n",
              " ('bennet', 0.49783971905708313),\n",
              " ('bingley', 0.49715736508369446),\n",
              " ('antipático', 0.49289530515670776),\n",
              " ('su', 0.4908480644226074),\n",
              " ('sonriendo', 0.47856229543685913),\n",
              " ('admiración', 0.4769458770751953),\n",
              " ('éste', 0.47225087881088257)]"
            ]
          },
          "metadata": {},
          "execution_count": 43
        }
      ]
    },
    {
      "cell_type": "code",
      "source": [
        "w2v_model.wv.most_similar(positive=[\"amor\"], topn=10)"
      ],
      "metadata": {
        "id": "NfekCmc1fGqN",
        "outputId": "74f23e3d-f7f6-44d8-b8cf-447ed194d886",
        "colab": {
          "base_uri": "https://localhost:8080/"
        }
      },
      "execution_count": 44,
      "outputs": [
        {
          "output_type": "execute_result",
          "data": {
            "text/plain": [
              "[('afecto', 0.5186800360679626),\n",
              " ('éxito', 0.5041104555130005),\n",
              " ('cariño', 0.49677205085754395),\n",
              " ('acordarse', 0.4786473214626312),\n",
              " ('mío', 0.4772559404373169),\n",
              " ('verdadero', 0.4742584526538849),\n",
              " ('fuerte', 0.4731135070323944),\n",
              " ('significado', 0.47126057744026184),\n",
              " ('administrador', 0.4578981101512909),\n",
              " ('sincero', 0.45083850622177124)]"
            ]
          },
          "metadata": {},
          "execution_count": 44
        }
      ]
    },
    {
      "cell_type": "code",
      "source": [
        "w2v_model.wv.most_similar(positive=[\"matrimonio\"], topn=10)"
      ],
      "metadata": {
        "id": "2XliIjmJfPpG",
        "outputId": "f3336922-b2af-4954-b861-a955868bfc83",
        "colab": {
          "base_uri": "https://localhost:8080/"
        }
      },
      "execution_count": 45,
      "outputs": [
        {
          "output_type": "execute_result",
          "data": {
            "text/plain": [
              "[('posee', 0.4448643922805786),\n",
              " ('bienestar', 0.4430423676967621),\n",
              " ('unión', 0.44038403034210205),\n",
              " ('insistió', 0.4402417838573456),\n",
              " ('futuro', 0.4388976991176605),\n",
              " ('habitual', 0.4313914477825165),\n",
              " ('defecto', 0.42915287613868713),\n",
              " ('promesa', 0.4274199306964874),\n",
              " ('obtenido', 0.4258091449737549),\n",
              " ('hallarse', 0.4189453721046448)]"
            ]
          },
          "metadata": {},
          "execution_count": 45
        }
      ]
    },
    {
      "cell_type": "code",
      "source": [
        "w2v_model.wv.most_similar(positive=[\"hermanas\"], topn=10)"
      ],
      "metadata": {
        "id": "l8OCjeHBgIvf",
        "outputId": "4f6c3541-4152-4982-f68b-5aaf87b52e6e",
        "colab": {
          "base_uri": "https://localhost:8080/"
        }
      },
      "execution_count": 46,
      "outputs": [
        {
          "output_type": "execute_result",
          "data": {
            "text/plain": [
              "[('menores', 0.5551480054855347),\n",
              " ('partes', 0.4889084994792938),\n",
              " ('respetos', 0.4803032875061035),\n",
              " ('molesta', 0.47938498854637146),\n",
              " ('veras', 0.46616965532302856),\n",
              " ('advertencias', 0.4630378186702728),\n",
              " ('amigas', 0.4630282521247864),\n",
              " ('muchachas', 0.4628240764141083),\n",
              " ('james', 0.45952293276786804),\n",
              " ('expresiones', 0.45742520689964294)]"
            ]
          },
          "metadata": {},
          "execution_count": 46
        }
      ]
    },
    {
      "cell_type": "code",
      "source": [
        "w2v_model.wv.most_similar(positive=[\"mujer\"], topn=10)"
      ],
      "metadata": {
        "id": "0gi5Wl-Uj9SK",
        "outputId": "60ce4cc1-163a-465e-d997-6d8f11d80942",
        "colab": {
          "base_uri": "https://localhost:8080/"
        }
      },
      "execution_count": 47,
      "outputs": [
        {
          "output_type": "execute_result",
          "data": {
            "text/plain": [
              "[('compañero', 0.4947425127029419),\n",
              " ('ejercicio', 0.4451231062412262),\n",
              " ('casar', 0.4433146119117737),\n",
              " ('pretende', 0.4376656413078308),\n",
              " ('independencia', 0.434664785861969),\n",
              " ('criatura', 0.43154439330101013),\n",
              " ('atenta', 0.42921003699302673),\n",
              " ('superior', 0.42809510231018066),\n",
              " ('fácil', 0.42655882239341736),\n",
              " ('imaginación', 0.42630070447921753)]"
            ]
          },
          "metadata": {},
          "execution_count": 47
        }
      ]
    },
    {
      "cell_type": "markdown",
      "source": [
        "Vemos que varias de las palabras que se muestran como similares tienen sentido en el contexto de la novel Orgullo y prejuicio. Por ejemplo \"Darcy\" lo relaciona con otros apellidos cono \"Bingley\" o \"Bennet\". \"Amor\" también lo relaciona con \"afecto\",\"cariño\". Además refleja las ideas que se discuten en el libro,como el rol de la \"mujer\", ya que relaciona la palabra con \"casar\", \"compañero\" (por el hecho que se discute en el libro de que las mujeres en esa época deben buscar esposo), \"independencia\".\n",
        "No todas las palabras a calzan exáctamente, pero está bastante bien el resultado."
      ],
      "metadata": {
        "id": "jSOk0SfxkcWu"
      }
    },
    {
      "cell_type": "markdown",
      "source": [
        "## 5 - Graficar"
      ],
      "metadata": {
        "id": "LTxDUFaUlXHD"
      }
    },
    {
      "cell_type": "code",
      "source": [
        "from sklearn.decomposition import IncrementalPCA\n",
        "from sklearn.manifold import TSNE\n",
        "import numpy as np\n",
        "\n",
        "def reduce_dimensions(model, num_dimensions = 2 ):\n",
        "\n",
        "    vectors = np.asarray(model.wv.vectors)\n",
        "    labels = np.asarray(model.wv.index_to_key)\n",
        "\n",
        "    tsne = TSNE(n_components=num_dimensions, random_state=0)\n",
        "    vectors = tsne.fit_transform(vectors)\n",
        "\n",
        "    return vectors, labels"
      ],
      "metadata": {
        "id": "ZX1FrsEulZ8f"
      },
      "execution_count": 48,
      "outputs": []
    },
    {
      "cell_type": "code",
      "source": [
        "# Graficar los embedddings en 2D\n",
        "import plotly.graph_objects as go\n",
        "import plotly.express as px\n",
        "\n",
        "vecs, labels = reduce_dimensions(w2v_model)\n",
        "\n",
        "MAX_WORDS=200\n",
        "fig = px.scatter(x=vecs[:MAX_WORDS,0], y=vecs[:MAX_WORDS,1], text=labels[:MAX_WORDS])\n",
        "fig.show(renderer=\"colab\") # esto para plotly en colab"
      ],
      "metadata": {
        "id": "YKbud-FilifT",
        "outputId": "77dbfb7c-2417-4e69-f77e-a964ca514d71",
        "colab": {
          "base_uri": "https://localhost:8080/",
          "height": 542
        }
      },
      "execution_count": 49,
      "outputs": [
        {
          "output_type": "display_data",
          "data": {
            "text/html": [
              "<html>\n",
              "<head><meta charset=\"utf-8\" /></head>\n",
              "<body>\n",
              "    <div>            <script src=\"https://cdnjs.cloudflare.com/ajax/libs/mathjax/2.7.5/MathJax.js?config=TeX-AMS-MML_SVG\"></script><script type=\"text/javascript\">if (window.MathJax && window.MathJax.Hub && window.MathJax.Hub.Config) {window.MathJax.Hub.Config({SVG: {font: \"STIX-Web\"}});}</script>                <script type=\"text/javascript\">window.PlotlyConfig = {MathJaxConfig: 'local'};</script>\n",
              "        <script charset=\"utf-8\" src=\"https://cdn.plot.ly/plotly-2.24.1.min.js\"></script>                <div id=\"c95e7427-b0f3-4713-ab33-4d129c5c36ad\" class=\"plotly-graph-div\" style=\"height:525px; width:100%;\"></div>            <script type=\"text/javascript\">                                    window.PLOTLYENV=window.PLOTLYENV || {};                                    if (document.getElementById(\"c95e7427-b0f3-4713-ab33-4d129c5c36ad\")) {                    Plotly.newPlot(                        \"c95e7427-b0f3-4713-ab33-4d129c5c36ad\",                        [{\"hovertemplate\":\"x=%{x}\\u003cbr\\u003ey=%{y}\\u003cbr\\u003etext=%{text}\\u003cextra\\u003e\\u003c\\u002fextra\\u003e\",\"legendgroup\":\"\",\"marker\":{\"color\":\"#636efa\",\"symbol\":\"circle\"},\"mode\":\"markers+text\",\"name\":\"\",\"orientation\":\"v\",\"showlegend\":false,\"text\":[\"de\",\"que\",\"la\",\"a\",\"y\",\"no\",\"en\",\"su\",\"el\",\"se\",\"con\",\"lo\",\"por\",\"le\",\"pero\",\"elizabeth\",\"los\",\"para\",\"una\",\"m\\u00e1s\",\"las\",\"un\",\"al\",\"me\",\"hab\\u00eda\",\"es\",\"darcy\",\"sus\",\"se\\u00f1or\",\"si\",\"como\",\"tan\",\"del\",\"era\",\"muy\",\"bingley\",\"mi\",\"se\\u00f1ora\",\"todo\",\"\\u00e9l\",\"ella\",\"qu\\u00e9\",\"jane\",\"bennet\",\"cuando\",\"dijo\",\"estaba\",\"usted\",\"wickham\",\"sin\",\"ser\",\"se\\u00f1orita\",\"ya\",\"ni\",\"ha\",\"nada\",\"collins\",\"casa\",\"te\",\"yo\",\"o\",\"fue\",\"aunque\",\"ten\\u00eda\",\"hermana\",\"dos\",\"mucho\",\"bien\",\"lydia\",\"catherine\",\"todos\",\"despu\\u00e9s\",\"nunca\",\"pod\\u00eda\",\"vez\",\"les\",\"s\\u00f3lo\",\"pues\",\"hasta\",\"tiempo\",\"habr\\u00eda\",\"poco\",\"porque\",\"familia\",\"he\",\"todas\",\"s\\u00ed\",\"siempre\",\"menos\",\"sido\",\"antes\",\"puede\",\"as\\u00ed\",\"lady\",\"ver\",\"ahora\",\"mejor\",\"otra\",\"esta\",\"hacer\",\"padre\",\"hubiese\",\"decir\",\"modo\",\"otro\",\"d\\u00eda\",\"madre\",\"hecho\",\"carta\",\"haber\",\"tiene\",\"sobre\",\"tanto\",\"eso\",\"hablar\",\"mismo\",\"c\\u00f3mo\",\"hab\\u00edan\",\"toda\",\"tu\",\"algo\",\"gardiner\",\"cosa\",\"tener\",\"puedo\",\"esto\",\"estoy\",\"cuanto\",\"hombre\",\"mal\",\"est\\u00e1\",\"parte\",\"misma\",\"tambi\\u00e9n\",\"este\",\"nos\",\"longbourn\",\"estar\",\"iba\",\"desde\",\"charlotte\",\"m\\u00ed\",\"entonces\",\"creo\",\"querida\",\"hay\",\"entre\",\"son\",\"tal\",\"ninguna\",\"cosas\",\"pensar\",\"hermanas\",\"tengo\",\"hijas\",\"veces\",\"saber\",\"mientras\",\"hija\",\"hizo\",\"demasiado\",\"ma\\u00f1ana\",\"mayor\",\"nadie\",\"pronto\",\"eran\",\"mundo\",\"mis\",\"ese\",\"gran\",\"ellos\",\"lucas\",\"estado\",\"pesar\",\"mujer\",\"hacia\",\"fin\",\"londres\",\"hac\\u00eda\",\"sea\",\"durante\",\"visto\",\"pudo\",\"casi\",\"aquella\",\"parec\\u00eda\",\"ning\\u00fan\",\"coronel\",\"ser\\u00eda\",\"netherfield\",\"contest\\u00f3\",\"joven\",\"fuese\",\"momento\",\"sentimientos\",\"amigo\",\"felicidad\",\"qued\\u00f3\",\"t\\u00fa\",\"uno\"],\"x\":[-2.2468159198760986,3.1295063495635986,-2.669727325439453,-1.6135220527648926,-1.7504510879516602,3.4186062812805176,-2.4395320415496826,-1.7019232511520386,-1.3012690544128418,2.808178424835205,-1.958587646484375,3.821190595626831,-1.9544988870620728,3.230971097946167,3.2284862995147705,-1.959285020828247,-7.7768168449401855,-2.0370500087738037,-2.691617250442505,3.1871206760406494,-10.540691375732422,-1.2331854104995728,2.1536431312561035,3.9299638271331787,6.231137752532959,18.08778953552246,-1.4810452461242676,-7.43730354309082,16.799816131591797,13.168938636779785,1.2935808897018433,2.5536510944366455,-1.6685909032821655,6.896707534790039,8.66176700592041,5.209700107574463,-1.618585228919983,-8.32357120513916,5.054759979248047,3.242908239364624,1.1518447399139404,8.762063980102539,0.17890393733978271,-13.097977638244629,-2.7688541412353516,16.59479331970215,17.043304443359375,9.617459297180176,13.861659049987793,1.5484490394592285,2.1448442935943604,-13.124338150024414,3.401151657104492,4.366130352020264,11.037766456604004,3.709709882736206,-6.688023090362549,-14.533838272094727,11.893325805664062,9.947250366210938,0.947845458984375,-8.895294189453125,13.426741600036621,9.492461204528809,-0.7214608192443848,-8.613743782043457,0.18211042881011963,9.086122512817383,17.60249900817871,-0.7343308925628662,-7.21921443939209,-15.682931900024414,6.986577033996582,14.350893020629883,12.581605911254883,9.302056312561035,1.4412569999694824,2.020221471786499,-5.011205196380615,-10.477816581726074,10.74269962310791,0.815506100654602,2.9700422286987305,-1.8248893022537231,11.541841506958008,-9.192618370056152,5.568519115447998,13.220237731933594,2.10148286819458,3.5266826152801514,-8.374418258666992,8.997368812561035,4.530189037322998,-0.7299197316169739,7.27065372467041,2.8217756748199463,5.997917652130127,-11.09838581085205,-2.9988911151885986,13.377095222473145,4.927343368530273,10.764629364013672,5.460522651672363,0.924187958240509,-15.485998153686523,-10.130377769470215,-1.9574544429779053,5.2179341316223145,-5.09073543548584,-6.09908390045166,-0.4879904091358185,-7.6355719566345215,0.024995895102620125,9.199914932250977,5.312800407409668,-8.858770370483398,12.343381881713867,6.229025363922119,-2.2110791206359863,16.53786277770996,6.188127040863037,-12.990592956542969,1.1551073789596558,11.201544761657715,11.808439254760742,5.840505599975586,13.151548385620117,-17.621625900268555,6.711519718170166,0.23004195094108582,7.208540916442871,-3.6921651363372803,-2.281491994857788,1.3795720338821411,3.7908616065979004,6.609230995178223,-9.952727317810059,-8.321845054626465,-3.3886165618896484,-15.620386123657227,15.918943405151367,11.594403266906738,16.51537322998047,14.409056663513184,14.164417266845703,1.1825852394104004,-3.835162878036499,-5.476459503173828,-0.0006024609319865704,1.8645646572113037,-8.154911041259766,-0.39329996705055237,-9.27355670928955,8.221359252929688,-7.589554309844971,-4.785944938659668,3.7113265991210938,-10.665122985839844,12.365842819213867,-7.600578784942627,-0.6740539073944092,-8.053693771362305,6.295616626739502,12.212396621704102,14.254317283630371,-11.867018699645996,6.440539360046387,-7.3527750968933105,11.972733497619629,-1.7499994039535522,2.5371928215026855,-0.3316579759120941,7.516790390014648,-7.448232650756836,5.496082782745361,-11.509577751159668,1.7411184310913086,-10.88166332244873,-2.4003968238830566,6.861793041229248,-17.673185348510742,6.678809642791748,-6.20189094543457,8.178434371948242,1.7439148426055908,11.635601997375488,11.223244667053223,-12.906920433044434,4.197040557861328,-3.965132236480713,0.9316331744194031,7.571537971496582,7.479763031005859,-14.21338176727295,-4.302744388580322,4.178956508636475,-18.580537796020508,-11.917076110839844,11.1796236038208,-10.152435302734375],\"xaxis\":\"x\",\"y\":[-0.8547505736351013,2.6717147827148438,-1.9291541576385498,0.39187297224998474,-0.9209566116333008,3.295435667037964,-0.434005469083786,-2.3260467052459717,-0.6441972255706787,2.394721746444702,-1.3632822036743164,3.1533913612365723,-0.674024224281311,2.558507204055786,2.5921542644500732,-11.008400917053223,6.117462158203125,-0.4031142592430115,-1.8753178119659424,2.1978561878204346,9.978103637695312,-0.6093711256980896,-16.359037399291992,2.7383744716644287,15.232020378112793,-1.4433727264404297,-1.6723353862762451,15.328595161437988,4.099631309509277,10.766345024108887,2.229992628097534,1.8084018230438232,-0.7424876093864441,-8.534186363220215,-8.980779647827148,17.151554107666016,-2.408987522125244,-5.391804218292236,7.1879658699035645,-6.537326812744141,2.573530673980713,8.232601165771484,-14.24701976776123,-5.508113384246826,-8.574864387512207,-2.6240310668945312,1.044424057006836,5.809134006500244,12.570035934448242,-11.432665824890137,6.665067672729492,-10.63184928894043,3.7908692359924316,-17.630205154418945,5.717123985290527,3.318174362182617,-3.872427225112915,3.222670555114746,3.90669322013855,5.2504143714904785,3.3431622982025146,-8.424768447875977,8.509038925170898,-10.199353218078613,-5.831896781921387,8.611750602722168,2.1348063945770264,7.516292095184326,2.40220046043396,-19.55524444580078,5.761663436889648,1.115695595741272,8.048747062683105,-6.599076747894287,-3.2378315925598145,13.81549072265625,3.3995280265808105,1.568337082862854,-1.1050071716308594,-13.171489715576172,10.965572357177734,-7.055718898773193,1.28174889087677,2.1049938201904297,9.506203651428223,12.203764915466309,0.6918299794197083,10.822667121887207,3.5080740451812744,11.44287395477295,2.042207956314087,0.7028754949569702,1.721160888671875,-19.56388282775879,0.1751253604888916,4.548041820526123,4.725342750549316,-6.418557643890381,-2.0554726123809814,-8.514501571655273,0.5099004507064819,10.867042541503906,5.226477146148682,6.134416103363037,5.17795467376709,-0.6377852559089661,18.2768497467041,7.787015438079834,-5.210799694061279,-2.688075065612793,13.3740234375,0.7849141955375671,2.8180253505706787,5.709449768066406,-15.07347297668457,-14.368204116821289,8.885807037353516,15.278428077697754,-5.316978931427002,2.953869342803955,1.2294968366622925,-4.0169806480407715,1.754866361618042,-7.3122172355651855,1.0489715337753296,4.116503715515137,1.8281683921813965,-2.1032028198242188,-4.806097984313965,2.140230178833008,0.6315521597862244,-4.9272780418396,-4.406396865844727,0.2776879072189331,-13.916831970214844,12.55412769317627,-1.2958437204360962,3.9017157554626465,2.3431224822998047,-1.05229651927948,5.567683219909668,-1.9313477277755737,-5.791051387786865,5.218990802764893,1.2555112838745117,11.610118865966797,-2.857855796813965,12.92150592803955,-15.299565315246582,-13.221822738647461,11.471402168273926,10.178238868713379,14.743304252624512,5.523172855377197,13.620594024658203,15.803584098815918,5.959238052368164,2.1314029693603516,-7.434389114379883,-10.090412139892578,6.4734392166137695,0.6697483062744141,-14.249776840209961,4.399535655975342,3.867762327194214,10.826818466186523,-5.833711624145508,15.57624340057373,-0.4844569265842438,-7.469300270080566,8.93874454498291,1.9340791702270508,10.914815902709961,-4.119763374328613,-2.32002592086792,-9.432336807250977,4.731626987457275,-1.109809160232544,-15.843047142028809,3.0395076274871826,-0.24623176455497742,9.66146183013916,-10.487812042236328,15.492559432983398,-13.13412857055664,-10.734206199645996,-8.401917457580566,-3.2449045181274414,-2.247518301010132,4.368982315063477,-12.352140426635742,-6.188924789428711,-8.935053825378418,-1.0849387645721436,11.81391429901123,-0.5138329267501831,4.2220892906188965,-9.190069198608398,2.5671310424804688,6.51268196105957],\"yaxis\":\"y\",\"type\":\"scatter\"}],                        {\"template\":{\"data\":{\"histogram2dcontour\":[{\"type\":\"histogram2dcontour\",\"colorbar\":{\"outlinewidth\":0,\"ticks\":\"\"},\"colorscale\":[[0.0,\"#0d0887\"],[0.1111111111111111,\"#46039f\"],[0.2222222222222222,\"#7201a8\"],[0.3333333333333333,\"#9c179e\"],[0.4444444444444444,\"#bd3786\"],[0.5555555555555556,\"#d8576b\"],[0.6666666666666666,\"#ed7953\"],[0.7777777777777778,\"#fb9f3a\"],[0.8888888888888888,\"#fdca26\"],[1.0,\"#f0f921\"]]}],\"choropleth\":[{\"type\":\"choropleth\",\"colorbar\":{\"outlinewidth\":0,\"ticks\":\"\"}}],\"histogram2d\":[{\"type\":\"histogram2d\",\"colorbar\":{\"outlinewidth\":0,\"ticks\":\"\"},\"colorscale\":[[0.0,\"#0d0887\"],[0.1111111111111111,\"#46039f\"],[0.2222222222222222,\"#7201a8\"],[0.3333333333333333,\"#9c179e\"],[0.4444444444444444,\"#bd3786\"],[0.5555555555555556,\"#d8576b\"],[0.6666666666666666,\"#ed7953\"],[0.7777777777777778,\"#fb9f3a\"],[0.8888888888888888,\"#fdca26\"],[1.0,\"#f0f921\"]]}],\"heatmap\":[{\"type\":\"heatmap\",\"colorbar\":{\"outlinewidth\":0,\"ticks\":\"\"},\"colorscale\":[[0.0,\"#0d0887\"],[0.1111111111111111,\"#46039f\"],[0.2222222222222222,\"#7201a8\"],[0.3333333333333333,\"#9c179e\"],[0.4444444444444444,\"#bd3786\"],[0.5555555555555556,\"#d8576b\"],[0.6666666666666666,\"#ed7953\"],[0.7777777777777778,\"#fb9f3a\"],[0.8888888888888888,\"#fdca26\"],[1.0,\"#f0f921\"]]}],\"heatmapgl\":[{\"type\":\"heatmapgl\",\"colorbar\":{\"outlinewidth\":0,\"ticks\":\"\"},\"colorscale\":[[0.0,\"#0d0887\"],[0.1111111111111111,\"#46039f\"],[0.2222222222222222,\"#7201a8\"],[0.3333333333333333,\"#9c179e\"],[0.4444444444444444,\"#bd3786\"],[0.5555555555555556,\"#d8576b\"],[0.6666666666666666,\"#ed7953\"],[0.7777777777777778,\"#fb9f3a\"],[0.8888888888888888,\"#fdca26\"],[1.0,\"#f0f921\"]]}],\"contourcarpet\":[{\"type\":\"contourcarpet\",\"colorbar\":{\"outlinewidth\":0,\"ticks\":\"\"}}],\"contour\":[{\"type\":\"contour\",\"colorbar\":{\"outlinewidth\":0,\"ticks\":\"\"},\"colorscale\":[[0.0,\"#0d0887\"],[0.1111111111111111,\"#46039f\"],[0.2222222222222222,\"#7201a8\"],[0.3333333333333333,\"#9c179e\"],[0.4444444444444444,\"#bd3786\"],[0.5555555555555556,\"#d8576b\"],[0.6666666666666666,\"#ed7953\"],[0.7777777777777778,\"#fb9f3a\"],[0.8888888888888888,\"#fdca26\"],[1.0,\"#f0f921\"]]}],\"surface\":[{\"type\":\"surface\",\"colorbar\":{\"outlinewidth\":0,\"ticks\":\"\"},\"colorscale\":[[0.0,\"#0d0887\"],[0.1111111111111111,\"#46039f\"],[0.2222222222222222,\"#7201a8\"],[0.3333333333333333,\"#9c179e\"],[0.4444444444444444,\"#bd3786\"],[0.5555555555555556,\"#d8576b\"],[0.6666666666666666,\"#ed7953\"],[0.7777777777777778,\"#fb9f3a\"],[0.8888888888888888,\"#fdca26\"],[1.0,\"#f0f921\"]]}],\"mesh3d\":[{\"type\":\"mesh3d\",\"colorbar\":{\"outlinewidth\":0,\"ticks\":\"\"}}],\"scatter\":[{\"fillpattern\":{\"fillmode\":\"overlay\",\"size\":10,\"solidity\":0.2},\"type\":\"scatter\"}],\"parcoords\":[{\"type\":\"parcoords\",\"line\":{\"colorbar\":{\"outlinewidth\":0,\"ticks\":\"\"}}}],\"scatterpolargl\":[{\"type\":\"scatterpolargl\",\"marker\":{\"colorbar\":{\"outlinewidth\":0,\"ticks\":\"\"}}}],\"bar\":[{\"error_x\":{\"color\":\"#2a3f5f\"},\"error_y\":{\"color\":\"#2a3f5f\"},\"marker\":{\"line\":{\"color\":\"#E5ECF6\",\"width\":0.5},\"pattern\":{\"fillmode\":\"overlay\",\"size\":10,\"solidity\":0.2}},\"type\":\"bar\"}],\"scattergeo\":[{\"type\":\"scattergeo\",\"marker\":{\"colorbar\":{\"outlinewidth\":0,\"ticks\":\"\"}}}],\"scatterpolar\":[{\"type\":\"scatterpolar\",\"marker\":{\"colorbar\":{\"outlinewidth\":0,\"ticks\":\"\"}}}],\"histogram\":[{\"marker\":{\"pattern\":{\"fillmode\":\"overlay\",\"size\":10,\"solidity\":0.2}},\"type\":\"histogram\"}],\"scattergl\":[{\"type\":\"scattergl\",\"marker\":{\"colorbar\":{\"outlinewidth\":0,\"ticks\":\"\"}}}],\"scatter3d\":[{\"type\":\"scatter3d\",\"line\":{\"colorbar\":{\"outlinewidth\":0,\"ticks\":\"\"}},\"marker\":{\"colorbar\":{\"outlinewidth\":0,\"ticks\":\"\"}}}],\"scattermapbox\":[{\"type\":\"scattermapbox\",\"marker\":{\"colorbar\":{\"outlinewidth\":0,\"ticks\":\"\"}}}],\"scatterternary\":[{\"type\":\"scatterternary\",\"marker\":{\"colorbar\":{\"outlinewidth\":0,\"ticks\":\"\"}}}],\"scattercarpet\":[{\"type\":\"scattercarpet\",\"marker\":{\"colorbar\":{\"outlinewidth\":0,\"ticks\":\"\"}}}],\"carpet\":[{\"aaxis\":{\"endlinecolor\":\"#2a3f5f\",\"gridcolor\":\"white\",\"linecolor\":\"white\",\"minorgridcolor\":\"white\",\"startlinecolor\":\"#2a3f5f\"},\"baxis\":{\"endlinecolor\":\"#2a3f5f\",\"gridcolor\":\"white\",\"linecolor\":\"white\",\"minorgridcolor\":\"white\",\"startlinecolor\":\"#2a3f5f\"},\"type\":\"carpet\"}],\"table\":[{\"cells\":{\"fill\":{\"color\":\"#EBF0F8\"},\"line\":{\"color\":\"white\"}},\"header\":{\"fill\":{\"color\":\"#C8D4E3\"},\"line\":{\"color\":\"white\"}},\"type\":\"table\"}],\"barpolar\":[{\"marker\":{\"line\":{\"color\":\"#E5ECF6\",\"width\":0.5},\"pattern\":{\"fillmode\":\"overlay\",\"size\":10,\"solidity\":0.2}},\"type\":\"barpolar\"}],\"pie\":[{\"automargin\":true,\"type\":\"pie\"}]},\"layout\":{\"autotypenumbers\":\"strict\",\"colorway\":[\"#636efa\",\"#EF553B\",\"#00cc96\",\"#ab63fa\",\"#FFA15A\",\"#19d3f3\",\"#FF6692\",\"#B6E880\",\"#FF97FF\",\"#FECB52\"],\"font\":{\"color\":\"#2a3f5f\"},\"hovermode\":\"closest\",\"hoverlabel\":{\"align\":\"left\"},\"paper_bgcolor\":\"white\",\"plot_bgcolor\":\"#E5ECF6\",\"polar\":{\"bgcolor\":\"#E5ECF6\",\"angularaxis\":{\"gridcolor\":\"white\",\"linecolor\":\"white\",\"ticks\":\"\"},\"radialaxis\":{\"gridcolor\":\"white\",\"linecolor\":\"white\",\"ticks\":\"\"}},\"ternary\":{\"bgcolor\":\"#E5ECF6\",\"aaxis\":{\"gridcolor\":\"white\",\"linecolor\":\"white\",\"ticks\":\"\"},\"baxis\":{\"gridcolor\":\"white\",\"linecolor\":\"white\",\"ticks\":\"\"},\"caxis\":{\"gridcolor\":\"white\",\"linecolor\":\"white\",\"ticks\":\"\"}},\"coloraxis\":{\"colorbar\":{\"outlinewidth\":0,\"ticks\":\"\"}},\"colorscale\":{\"sequential\":[[0.0,\"#0d0887\"],[0.1111111111111111,\"#46039f\"],[0.2222222222222222,\"#7201a8\"],[0.3333333333333333,\"#9c179e\"],[0.4444444444444444,\"#bd3786\"],[0.5555555555555556,\"#d8576b\"],[0.6666666666666666,\"#ed7953\"],[0.7777777777777778,\"#fb9f3a\"],[0.8888888888888888,\"#fdca26\"],[1.0,\"#f0f921\"]],\"sequentialminus\":[[0.0,\"#0d0887\"],[0.1111111111111111,\"#46039f\"],[0.2222222222222222,\"#7201a8\"],[0.3333333333333333,\"#9c179e\"],[0.4444444444444444,\"#bd3786\"],[0.5555555555555556,\"#d8576b\"],[0.6666666666666666,\"#ed7953\"],[0.7777777777777778,\"#fb9f3a\"],[0.8888888888888888,\"#fdca26\"],[1.0,\"#f0f921\"]],\"diverging\":[[0,\"#8e0152\"],[0.1,\"#c51b7d\"],[0.2,\"#de77ae\"],[0.3,\"#f1b6da\"],[0.4,\"#fde0ef\"],[0.5,\"#f7f7f7\"],[0.6,\"#e6f5d0\"],[0.7,\"#b8e186\"],[0.8,\"#7fbc41\"],[0.9,\"#4d9221\"],[1,\"#276419\"]]},\"xaxis\":{\"gridcolor\":\"white\",\"linecolor\":\"white\",\"ticks\":\"\",\"title\":{\"standoff\":15},\"zerolinecolor\":\"white\",\"automargin\":true,\"zerolinewidth\":2},\"yaxis\":{\"gridcolor\":\"white\",\"linecolor\":\"white\",\"ticks\":\"\",\"title\":{\"standoff\":15},\"zerolinecolor\":\"white\",\"automargin\":true,\"zerolinewidth\":2},\"scene\":{\"xaxis\":{\"backgroundcolor\":\"#E5ECF6\",\"gridcolor\":\"white\",\"linecolor\":\"white\",\"showbackground\":true,\"ticks\":\"\",\"zerolinecolor\":\"white\",\"gridwidth\":2},\"yaxis\":{\"backgroundcolor\":\"#E5ECF6\",\"gridcolor\":\"white\",\"linecolor\":\"white\",\"showbackground\":true,\"ticks\":\"\",\"zerolinecolor\":\"white\",\"gridwidth\":2},\"zaxis\":{\"backgroundcolor\":\"#E5ECF6\",\"gridcolor\":\"white\",\"linecolor\":\"white\",\"showbackground\":true,\"ticks\":\"\",\"zerolinecolor\":\"white\",\"gridwidth\":2}},\"shapedefaults\":{\"line\":{\"color\":\"#2a3f5f\"}},\"annotationdefaults\":{\"arrowcolor\":\"#2a3f5f\",\"arrowhead\":0,\"arrowwidth\":1},\"geo\":{\"bgcolor\":\"white\",\"landcolor\":\"#E5ECF6\",\"subunitcolor\":\"white\",\"showland\":true,\"showlakes\":true,\"lakecolor\":\"white\"},\"title\":{\"x\":0.05},\"mapbox\":{\"style\":\"light\"}}},\"xaxis\":{\"anchor\":\"y\",\"domain\":[0.0,1.0],\"title\":{\"text\":\"x\"}},\"yaxis\":{\"anchor\":\"x\",\"domain\":[0.0,1.0],\"title\":{\"text\":\"y\"}},\"legend\":{\"tracegroupgap\":0},\"margin\":{\"t\":60}},                        {\"responsive\": true}                    ).then(function(){\n",
              "                            \n",
              "var gd = document.getElementById('c95e7427-b0f3-4713-ab33-4d129c5c36ad');\n",
              "var x = new MutationObserver(function (mutations, observer) {{\n",
              "        var display = window.getComputedStyle(gd).display;\n",
              "        if (!display || display === 'none') {{\n",
              "            console.log([gd, 'removed!']);\n",
              "            Plotly.purge(gd);\n",
              "            observer.disconnect();\n",
              "        }}\n",
              "}});\n",
              "\n",
              "// Listen for the removal of the full notebook cells\n",
              "var notebookContainer = gd.closest('#notebook-container');\n",
              "if (notebookContainer) {{\n",
              "    x.observe(notebookContainer, {childList: true});\n",
              "}}\n",
              "\n",
              "// Listen for the clearing of the current output cell\n",
              "var outputEl = gd.closest('.output');\n",
              "if (outputEl) {{\n",
              "    x.observe(outputEl, {childList: true});\n",
              "}}\n",
              "\n",
              "                        })                };                            </script>        </div>\n",
              "</body>\n",
              "</html>"
            ]
          },
          "metadata": {}
        }
      ]
    },
    {
      "cell_type": "markdown",
      "source": [
        "Vemos en el gráfico que palabras muy cercanas son aquellas que se usan juntas, como \"lady\" \"Catherine\". También relacionó correctamente \"hermanas\" con \"hijas\""
      ],
      "metadata": {
        "id": "cr75tfmGq3NO"
      }
    },
    {
      "cell_type": "code",
      "source": [
        "# Graficar los embedddings en 3D\n",
        "\n",
        "vecs, labels = reduce_dimensions(w2v_model,3)\n",
        "\n",
        "fig = px.scatter_3d(x=vecs[:MAX_WORDS,0], y=vecs[:MAX_WORDS,1], z=vecs[:MAX_WORDS,2],text=labels[:MAX_WORDS])\n",
        "fig.update_traces(marker_size = 2)\n",
        "fig.show(renderer=\"colab\") # esto para plotly en colab"
      ],
      "metadata": {
        "id": "GJ_6plyotqrS",
        "outputId": "8915ce13-6c57-42a0-aa74-e6e13e1d6a1b",
        "colab": {
          "base_uri": "https://localhost:8080/",
          "height": 542
        }
      },
      "execution_count": 50,
      "outputs": [
        {
          "output_type": "display_data",
          "data": {
            "text/html": [
              "<html>\n",
              "<head><meta charset=\"utf-8\" /></head>\n",
              "<body>\n",
              "    <div>            <script src=\"https://cdnjs.cloudflare.com/ajax/libs/mathjax/2.7.5/MathJax.js?config=TeX-AMS-MML_SVG\"></script><script type=\"text/javascript\">if (window.MathJax && window.MathJax.Hub && window.MathJax.Hub.Config) {window.MathJax.Hub.Config({SVG: {font: \"STIX-Web\"}});}</script>                <script type=\"text/javascript\">window.PlotlyConfig = {MathJaxConfig: 'local'};</script>\n",
              "        <script charset=\"utf-8\" src=\"https://cdn.plot.ly/plotly-2.24.1.min.js\"></script>                <div id=\"30af373b-b87b-45c8-b440-0d544451ee52\" class=\"plotly-graph-div\" style=\"height:525px; width:100%;\"></div>            <script type=\"text/javascript\">                                    window.PLOTLYENV=window.PLOTLYENV || {};                                    if (document.getElementById(\"30af373b-b87b-45c8-b440-0d544451ee52\")) {                    Plotly.newPlot(                        \"30af373b-b87b-45c8-b440-0d544451ee52\",                        [{\"hovertemplate\":\"x=%{x}\\u003cbr\\u003ey=%{y}\\u003cbr\\u003ez=%{z}\\u003cbr\\u003etext=%{text}\\u003cextra\\u003e\\u003c\\u002fextra\\u003e\",\"legendgroup\":\"\",\"marker\":{\"color\":\"#636efa\",\"symbol\":\"circle\",\"size\":2},\"mode\":\"markers+text\",\"name\":\"\",\"scene\":\"scene\",\"showlegend\":false,\"text\":[\"de\",\"que\",\"la\",\"a\",\"y\",\"no\",\"en\",\"su\",\"el\",\"se\",\"con\",\"lo\",\"por\",\"le\",\"pero\",\"elizabeth\",\"los\",\"para\",\"una\",\"m\\u00e1s\",\"las\",\"un\",\"al\",\"me\",\"hab\\u00eda\",\"es\",\"darcy\",\"sus\",\"se\\u00f1or\",\"si\",\"como\",\"tan\",\"del\",\"era\",\"muy\",\"bingley\",\"mi\",\"se\\u00f1ora\",\"todo\",\"\\u00e9l\",\"ella\",\"qu\\u00e9\",\"jane\",\"bennet\",\"cuando\",\"dijo\",\"estaba\",\"usted\",\"wickham\",\"sin\",\"ser\",\"se\\u00f1orita\",\"ya\",\"ni\",\"ha\",\"nada\",\"collins\",\"casa\",\"te\",\"yo\",\"o\",\"fue\",\"aunque\",\"ten\\u00eda\",\"hermana\",\"dos\",\"mucho\",\"bien\",\"lydia\",\"catherine\",\"todos\",\"despu\\u00e9s\",\"nunca\",\"pod\\u00eda\",\"vez\",\"les\",\"s\\u00f3lo\",\"pues\",\"hasta\",\"tiempo\",\"habr\\u00eda\",\"poco\",\"porque\",\"familia\",\"he\",\"todas\",\"s\\u00ed\",\"siempre\",\"menos\",\"sido\",\"antes\",\"puede\",\"as\\u00ed\",\"lady\",\"ver\",\"ahora\",\"mejor\",\"otra\",\"esta\",\"hacer\",\"padre\",\"hubiese\",\"decir\",\"modo\",\"otro\",\"d\\u00eda\",\"madre\",\"hecho\",\"carta\",\"haber\",\"tiene\",\"sobre\",\"tanto\",\"eso\",\"hablar\",\"mismo\",\"c\\u00f3mo\",\"hab\\u00edan\",\"toda\",\"tu\",\"algo\",\"gardiner\",\"cosa\",\"tener\",\"puedo\",\"esto\",\"estoy\",\"cuanto\",\"hombre\",\"mal\",\"est\\u00e1\",\"parte\",\"misma\",\"tambi\\u00e9n\",\"este\",\"nos\",\"longbourn\",\"estar\",\"iba\",\"desde\",\"charlotte\",\"m\\u00ed\",\"entonces\",\"creo\",\"querida\",\"hay\",\"entre\",\"son\",\"tal\",\"ninguna\",\"cosas\",\"pensar\",\"hermanas\",\"tengo\",\"hijas\",\"veces\",\"saber\",\"mientras\",\"hija\",\"hizo\",\"demasiado\",\"ma\\u00f1ana\",\"mayor\",\"nadie\",\"pronto\",\"eran\",\"mundo\",\"mis\",\"ese\",\"gran\",\"ellos\",\"lucas\",\"estado\",\"pesar\",\"mujer\",\"hacia\",\"fin\",\"londres\",\"hac\\u00eda\",\"sea\",\"durante\",\"visto\",\"pudo\",\"casi\",\"aquella\",\"parec\\u00eda\",\"ning\\u00fan\",\"coronel\",\"ser\\u00eda\",\"netherfield\",\"contest\\u00f3\",\"joven\",\"fuese\",\"momento\",\"sentimientos\",\"amigo\",\"felicidad\",\"qued\\u00f3\",\"t\\u00fa\",\"uno\"],\"x\":[-2.676410675048828,6.627612113952637,-5.331429958343506,11.597317695617676,-4.721554756164551,7.722192287445068,-0.6029947400093079,-8.654977798461914,-3.555497884750366,8.535130500793457,-7.471597671508789,6.152368068695068,0.02486579678952694,10.125611305236816,6.1672868728637695,-29.21728515625,7.088403701782227,-17.42285919189453,-2.9553489685058594,-39.04322814941406,42.7142333984375,-6.722236633300781,-10.640239715576172,10.491077423095703,11.845059394836426,-3.028640031814575,-11.879752159118652,28.347354888916016,26.735937118530273,2.460810661315918,6.364976406097412,10.986157417297363,-3.97064471244812,-33.329158782958984,-26.868045806884766,-26.84979820251465,-29.871673583984375,-1.1422284841537476,8.3719482421875,-52.59993362426758,16.665924072265625,19.150775909423828,-37.520538330078125,8.304167747497559,4.334593296051025,7.242763519287109,-45.16854476928711,35.10663604736328,-25.885242462158203,-49.71209716796875,-0.16380640864372253,-7.150160312652588,11.567066192626953,-1.5442672967910767,29.899282455444336,-1.442429780960083,-21.663333892822266,22.314096450805664,16.47857093811035,33.18452453613281,36.04845428466797,-4.584301948547363,-17.23239517211914,-9.68460464477539,-46.58366775512695,22.795146942138672,-4.84883451461792,0.6343675255775452,-3.9172024726867676,29.564533233642578,1.3246421813964844,15.372967720031738,13.900826454162598,16.922739028930664,-6.492588043212891,12.079198837280273,-2.022286891937256,-4.554759979248047,-6.935749053955078,15.726872444152832,44.181861877441406,-36.811988830566406,-17.15579605102539,-6.357296466827393,44.818138122558594,23.0421199798584,-0.9483551979064941,-1.3809328079223633,2.472754955291748,26.08818244934082,16.16986656188965,9.027472496032715,-11.039007186889648,27.943557739257812,20.054683685302734,-33.57331466674805,3.515047311782837,-13.163423538208008,-6.572135925292969,43.21373748779297,-9.335193634033203,40.2183837890625,2.36967396736145,-5.357871055603027,-11.17696475982666,27.313215255737305,13.888398170471191,14.249100685119629,-23.049161911010742,4.720327854156494,-5.693948745727539,4.753416061401367,16.258955001831055,6.239668846130371,27.337053298950195,-10.22057056427002,17.70798110961914,13.482828140258789,-21.930160522460938,-14.405985832214355,-0.7004846930503845,14.680095672607422,5.291023254394531,-0.6313395500183105,29.038835525512695,8.960142135620117,-4.394785404205322,12.979240417480469,-14.67464828491211,-0.296689510345459,-0.7488505244255066,-20.202360153198242,-29.657758712768555,-1.6692312955856323,7.074585914611816,44.04302215576172,16.118467330932617,21.370880126953125,13.408710479736328,15.369723320007324,-31.835304260253906,4.208492755889893,7.89077091217041,11.325119018554688,0.5276734828948975,48.4509391784668,-9.40817642211914,32.371883392333984,-16.49951171875,-7.631701946258545,19.00029754638672,0.40399259328842163,30.985319137573242,34.91056823730469,26.73073959350586,44.01289367675781,10.664974212646484,-8.07254409790039,-5.696999549865723,-18.499338150024414,-34.03960037231445,34.094970703125,-40.034690856933594,16.16254997253418,33.922706604003906,19.579036712646484,-30.139556884765625,26.205760955810547,-11.85196590423584,-26.591629028320312,21.450729370117188,14.75728988647461,34.97117233276367,-49.00563430786133,-46.72615051269531,-19.67627716064453,10.744993209838867,25.173381805419922,-6.606688976287842,8.048340797424316,5.145496368408203,20.066905975341797,-34.666542053222656,-0.8734239339828491,-12.559669494628906,-28.509868621826172,-17.967655181884766,21.550771713256836,-7.836090087890625,29.296920776367188,-17.673171997070312,-27.272253036499023,-27.496606826782227,-8.228318214416504,9.848420143127441,-9.917919158935547,-16.513599395751953,-11.694778442382812,16.956907272338867,19.393978118896484],\"y\":[8.075692176818848,-10.539441108703613,6.580544471740723,6.472298622131348,8.639955520629883,-11.962270736694336,9.663254737854004,8.608251571655273,13.262389183044434,3.0186538696289062,10.933581352233887,-23.32614517211914,4.937932968139648,-27.066017150878906,-14.53663158416748,12.404622077941895,43.240135192871094,14.491242408752441,3.3407046794891357,-35.531368255615234,19.963069915771484,14.704699516296387,-14.960979461669922,-30.988523483276367,4.124049186706543,-40.703369140625,5.27639627456665,21.188156127929688,-40.27951431274414,-56.49180603027344,-20.737905502319336,-17.82693862915039,14.810466766357422,-33.416709899902344,-36.074642181396484,-19.290464401245117,-47.16737747192383,11.367021560668945,-18.748899459838867,3.8419806957244873,-20.41815185546875,-31.736743927001953,-15.084505081176758,5.449192047119141,3.4794139862060547,-42.995845794677734,8.364395141601562,-41.28676223754883,-46.26142883300781,20.620407104492188,-12.545527458190918,-5.554015159606934,-13.541725158691406,-21.499713897705078,-20.777616500854492,-50.63228225708008,-10.371099472045898,31.71895408630371,-43.03411102294922,-31.980072021484375,-13.491720199584961,19.37502670288086,-23.21493911743164,-10.214367866516113,-6.134385585784912,37.479251861572266,-10.711307525634766,-44.927406311035156,-41.730506896972656,-9.35595703125,36.569366455078125,43.50408172607422,-24.354707717895508,-17.880617141723633,-24.37308120727539,-28.46671485900879,-6.865813732147217,-30.0506591796875,22.939510345458984,10.299112319946289,-26.461688995361328,16.59332275390625,-50.69732666015625,7.546500205993652,-24.817384719848633,14.495615005493164,-24.766082763671875,-57.103553771972656,-13.031184196472168,-12.425516128540039,30.444149017333984,-18.805532455444336,-36.14314270019531,-11.521492004394531,-1.2917035818099976,-34.74979782104492,-27.29964828491211,-18.767528533935547,4.665597438812256,-17.045156478881836,-24.872398376464844,-28.47937774658203,-19.53392219543457,-19.489778518676758,51.10901641845703,22.17917823791504,-12.637761116027832,-11.287097930908203,-9.13949203491211,0.9407980442047119,-17.279130935668945,25.394479751586914,-26.02362060546875,-22.13585662841797,-5.817876815795898,27.17739486694336,-41.525291442871094,3.442828416824341,20.14177894592285,-42.68791961669922,-23.822587966918945,7.3575758934021,-27.989925384521484,10.205029487609863,-41.44964599609375,-27.47626304626465,-42.03275680541992,36.308040618896484,-22.350631713867188,-17.661096572875977,-31.67247772216797,8.352818489074707,31.195999145507812,-22.127513885498047,-3.57726788520813,-15.084329605102539,17.226289749145508,47.11512756347656,11.754539489746094,34.33579635620117,-23.290294647216797,-25.749267578125,-25.723613739013672,-38.785152435302734,-50.60712432861328,0.5793588757514954,19.40526580810547,11.17724323272705,-26.715517044067383,-12.414762496948242,12.015059471130371,2.9231114387512207,7.018367290496826,-20.00455665588379,24.529142379760742,4.184436321258545,-3.828592300415039,30.023727416992188,-32.91055679321289,9.502506256103516,23.703371047973633,23.95726203918457,24.5927791595459,-48.38772201538086,-26.302268981933594,38.45476531982422,-19.568817138671875,21.727556228637695,-48.332435607910156,20.01822280883789,0.8622457385063171,-2.849001169204712,-22.47283363342285,9.615979194641113,-17.500829696655273,10.953384399414062,-0.38529324531555176,16.812742233276367,-8.32237720489502,-42.68750762939453,37.995506286621094,-16.749401092529297,3.1419143676757812,11.767849922180176,-9.272163391113281,7.092919826507568,-0.3818839192390442,10.446359634399414,-13.508772850036621,13.387500762939453,-36.8209342956543,-20.146697998046875,-36.59720230102539,47.231239318847656,18.4951171875,-25.186325073242188,-3.900925874710083,2.8290209770202637,-28.424213409423828,46.27864456176758],\"z\":[1.30283784866333,-7.162683486938477,8.882506370544434,16.7525634765625,4.918957233428955,-10.050079345703125,5.245177268981934,6.943963527679443,6.207283020019531,20.21565818786621,2.2335853576660156,-15.24670696258545,4.386484622955322,-32.032066345214844,-5.7310709953308105,18.310440063476562,-20.924901962280273,-47.6522216796875,8.479316711425781,15.902450561523438,-27.296886444091797,7.479687213897705,-52.50944519042969,-24.358898162841797,-50.87604904174805,-28.47416114807129,9.544079780578613,-32.814064025878906,-28.833545684814453,-10.493437767028809,-38.48409652709961,-44.847476959228516,2.0938010215759277,-13.3038330078125,-1.7410651445388794,-45.41029357910156,-10.96208381652832,34.08985900878906,-27.880279541015625,7.320577621459961,49.087703704833984,-27.527172088623047,36.34186935424805,41.83049392700195,26.20063591003418,-34.38836669921875,9.940375328063965,-2.9988296031951904,16.078720092773438,2.2118992805480957,-16.660327911376953,44.081302642822266,-9.801825523376465,50.890045166015625,-3.4966893196105957,-20.775630950927734,-49.658363342285156,15.224654197692871,7.42128849029541,-0.33001837134361267,14.906004905700684,34.48830795288086,-45.049346923828125,10.237897872924805,-8.972317695617676,-6.211004257202148,-47.285518646240234,-13.77951717376709,31.903350830078125,41.0390510559082,-23.355382919311523,24.89232635498047,-18.362764358520508,26.976558685302734,30.480588912963867,-35.33325958251953,-5.667550086975098,-44.17662048339844,3.5906741619110107,49.64182662963867,-11.406279563903809,-18.899900436401367,-0.3492969870567322,-7.6536431312561035,-0.08302214741706848,-12.027719497680664,-5.789109230041504,-12.411262512207031,-10.533520698547363,-34.66555404663086,8.81191635131836,8.645744323730469,-26.189027786254883,42.61589050292969,-6.359121322631836,-26.678016662597656,-28.466398239135742,27.850749969482422,12.429949760437012,22.470754623413086,-2.2064385414123535,-9.130281448364258,-30.08119773864746,-21.6403751373291,-7.682886123657227,20.714468002319336,-52.02683639526367,-26.429508209228516,32.318946838378906,-47.60154342651367,5.710021495819092,2.1246025562286377,-44.01582717895508,-22.89895248413086,0.834313690662384,17.418258666992188,-25.992977142333984,-53.621360778808594,-7.45387601852417,-31.400619506835938,-16.038827896118164,39.151580810546875,-19.812946319580078,-16.12307357788086,17.63519287109375,-14.60396957397461,5.3774943351745605,8.856178283691406,-11.409567832946777,-43.47616195678711,0.48459598422050476,-7.149202346801758,-11.678729057312012,-36.22012710571289,24.557615280151367,-21.751893997192383,22.271530151367188,7.3353447914123535,15.040321350097656,34.5528678894043,36.350223541259766,24.90157699584961,40.79486846923828,25.075611114501953,12.141742706298828,3.577681541442871,-2.4491336345672607,-26.212020874023438,8.667586326599121,25.478538513183594,-20.713489532470703,-38.121707916259766,-33.57520294189453,18.103147506713867,-22.221412658691406,-22.721769332885742,-15.835933685302734,8.001782417297363,28.585554122924805,26.59915542602539,-15.900321960449219,28.3808536529541,1.0054926872253418,13.274309158325195,33.2244758605957,-30.621501922607422,-24.14410972595215,-36.84705352783203,-22.887229919433594,2.1254074573516846,-34.280372619628906,6.557223320007324,-25.550546646118164,28.013071060180664,-18.06488609313965,47.322322845458984,-5.198487281799316,25.334285736083984,17.04910659790039,-8.164987564086914,38.2215461730957,-24.752641677856445,35.805641174316406,-52.02001953125,20.597373962402344,-38.482669830322266,-45.00580978393555,30.416584014892578,-27.030874252319336,10.319844245910645,-1.5651094913482666,-1.137446641921997,-15.662117958068848,22.26369857788086,-40.658164978027344,4.917915344238281,-9.887083053588867,35.892879486083984,-4.059406280517578,-10.16215991973877],\"type\":\"scatter3d\"}],                        {\"template\":{\"data\":{\"histogram2dcontour\":[{\"type\":\"histogram2dcontour\",\"colorbar\":{\"outlinewidth\":0,\"ticks\":\"\"},\"colorscale\":[[0.0,\"#0d0887\"],[0.1111111111111111,\"#46039f\"],[0.2222222222222222,\"#7201a8\"],[0.3333333333333333,\"#9c179e\"],[0.4444444444444444,\"#bd3786\"],[0.5555555555555556,\"#d8576b\"],[0.6666666666666666,\"#ed7953\"],[0.7777777777777778,\"#fb9f3a\"],[0.8888888888888888,\"#fdca26\"],[1.0,\"#f0f921\"]]}],\"choropleth\":[{\"type\":\"choropleth\",\"colorbar\":{\"outlinewidth\":0,\"ticks\":\"\"}}],\"histogram2d\":[{\"type\":\"histogram2d\",\"colorbar\":{\"outlinewidth\":0,\"ticks\":\"\"},\"colorscale\":[[0.0,\"#0d0887\"],[0.1111111111111111,\"#46039f\"],[0.2222222222222222,\"#7201a8\"],[0.3333333333333333,\"#9c179e\"],[0.4444444444444444,\"#bd3786\"],[0.5555555555555556,\"#d8576b\"],[0.6666666666666666,\"#ed7953\"],[0.7777777777777778,\"#fb9f3a\"],[0.8888888888888888,\"#fdca26\"],[1.0,\"#f0f921\"]]}],\"heatmap\":[{\"type\":\"heatmap\",\"colorbar\":{\"outlinewidth\":0,\"ticks\":\"\"},\"colorscale\":[[0.0,\"#0d0887\"],[0.1111111111111111,\"#46039f\"],[0.2222222222222222,\"#7201a8\"],[0.3333333333333333,\"#9c179e\"],[0.4444444444444444,\"#bd3786\"],[0.5555555555555556,\"#d8576b\"],[0.6666666666666666,\"#ed7953\"],[0.7777777777777778,\"#fb9f3a\"],[0.8888888888888888,\"#fdca26\"],[1.0,\"#f0f921\"]]}],\"heatmapgl\":[{\"type\":\"heatmapgl\",\"colorbar\":{\"outlinewidth\":0,\"ticks\":\"\"},\"colorscale\":[[0.0,\"#0d0887\"],[0.1111111111111111,\"#46039f\"],[0.2222222222222222,\"#7201a8\"],[0.3333333333333333,\"#9c179e\"],[0.4444444444444444,\"#bd3786\"],[0.5555555555555556,\"#d8576b\"],[0.6666666666666666,\"#ed7953\"],[0.7777777777777778,\"#fb9f3a\"],[0.8888888888888888,\"#fdca26\"],[1.0,\"#f0f921\"]]}],\"contourcarpet\":[{\"type\":\"contourcarpet\",\"colorbar\":{\"outlinewidth\":0,\"ticks\":\"\"}}],\"contour\":[{\"type\":\"contour\",\"colorbar\":{\"outlinewidth\":0,\"ticks\":\"\"},\"colorscale\":[[0.0,\"#0d0887\"],[0.1111111111111111,\"#46039f\"],[0.2222222222222222,\"#7201a8\"],[0.3333333333333333,\"#9c179e\"],[0.4444444444444444,\"#bd3786\"],[0.5555555555555556,\"#d8576b\"],[0.6666666666666666,\"#ed7953\"],[0.7777777777777778,\"#fb9f3a\"],[0.8888888888888888,\"#fdca26\"],[1.0,\"#f0f921\"]]}],\"surface\":[{\"type\":\"surface\",\"colorbar\":{\"outlinewidth\":0,\"ticks\":\"\"},\"colorscale\":[[0.0,\"#0d0887\"],[0.1111111111111111,\"#46039f\"],[0.2222222222222222,\"#7201a8\"],[0.3333333333333333,\"#9c179e\"],[0.4444444444444444,\"#bd3786\"],[0.5555555555555556,\"#d8576b\"],[0.6666666666666666,\"#ed7953\"],[0.7777777777777778,\"#fb9f3a\"],[0.8888888888888888,\"#fdca26\"],[1.0,\"#f0f921\"]]}],\"mesh3d\":[{\"type\":\"mesh3d\",\"colorbar\":{\"outlinewidth\":0,\"ticks\":\"\"}}],\"scatter\":[{\"fillpattern\":{\"fillmode\":\"overlay\",\"size\":10,\"solidity\":0.2},\"type\":\"scatter\"}],\"parcoords\":[{\"type\":\"parcoords\",\"line\":{\"colorbar\":{\"outlinewidth\":0,\"ticks\":\"\"}}}],\"scatterpolargl\":[{\"type\":\"scatterpolargl\",\"marker\":{\"colorbar\":{\"outlinewidth\":0,\"ticks\":\"\"}}}],\"bar\":[{\"error_x\":{\"color\":\"#2a3f5f\"},\"error_y\":{\"color\":\"#2a3f5f\"},\"marker\":{\"line\":{\"color\":\"#E5ECF6\",\"width\":0.5},\"pattern\":{\"fillmode\":\"overlay\",\"size\":10,\"solidity\":0.2}},\"type\":\"bar\"}],\"scattergeo\":[{\"type\":\"scattergeo\",\"marker\":{\"colorbar\":{\"outlinewidth\":0,\"ticks\":\"\"}}}],\"scatterpolar\":[{\"type\":\"scatterpolar\",\"marker\":{\"colorbar\":{\"outlinewidth\":0,\"ticks\":\"\"}}}],\"histogram\":[{\"marker\":{\"pattern\":{\"fillmode\":\"overlay\",\"size\":10,\"solidity\":0.2}},\"type\":\"histogram\"}],\"scattergl\":[{\"type\":\"scattergl\",\"marker\":{\"colorbar\":{\"outlinewidth\":0,\"ticks\":\"\"}}}],\"scatter3d\":[{\"type\":\"scatter3d\",\"line\":{\"colorbar\":{\"outlinewidth\":0,\"ticks\":\"\"}},\"marker\":{\"colorbar\":{\"outlinewidth\":0,\"ticks\":\"\"}}}],\"scattermapbox\":[{\"type\":\"scattermapbox\",\"marker\":{\"colorbar\":{\"outlinewidth\":0,\"ticks\":\"\"}}}],\"scatterternary\":[{\"type\":\"scatterternary\",\"marker\":{\"colorbar\":{\"outlinewidth\":0,\"ticks\":\"\"}}}],\"scattercarpet\":[{\"type\":\"scattercarpet\",\"marker\":{\"colorbar\":{\"outlinewidth\":0,\"ticks\":\"\"}}}],\"carpet\":[{\"aaxis\":{\"endlinecolor\":\"#2a3f5f\",\"gridcolor\":\"white\",\"linecolor\":\"white\",\"minorgridcolor\":\"white\",\"startlinecolor\":\"#2a3f5f\"},\"baxis\":{\"endlinecolor\":\"#2a3f5f\",\"gridcolor\":\"white\",\"linecolor\":\"white\",\"minorgridcolor\":\"white\",\"startlinecolor\":\"#2a3f5f\"},\"type\":\"carpet\"}],\"table\":[{\"cells\":{\"fill\":{\"color\":\"#EBF0F8\"},\"line\":{\"color\":\"white\"}},\"header\":{\"fill\":{\"color\":\"#C8D4E3\"},\"line\":{\"color\":\"white\"}},\"type\":\"table\"}],\"barpolar\":[{\"marker\":{\"line\":{\"color\":\"#E5ECF6\",\"width\":0.5},\"pattern\":{\"fillmode\":\"overlay\",\"size\":10,\"solidity\":0.2}},\"type\":\"barpolar\"}],\"pie\":[{\"automargin\":true,\"type\":\"pie\"}]},\"layout\":{\"autotypenumbers\":\"strict\",\"colorway\":[\"#636efa\",\"#EF553B\",\"#00cc96\",\"#ab63fa\",\"#FFA15A\",\"#19d3f3\",\"#FF6692\",\"#B6E880\",\"#FF97FF\",\"#FECB52\"],\"font\":{\"color\":\"#2a3f5f\"},\"hovermode\":\"closest\",\"hoverlabel\":{\"align\":\"left\"},\"paper_bgcolor\":\"white\",\"plot_bgcolor\":\"#E5ECF6\",\"polar\":{\"bgcolor\":\"#E5ECF6\",\"angularaxis\":{\"gridcolor\":\"white\",\"linecolor\":\"white\",\"ticks\":\"\"},\"radialaxis\":{\"gridcolor\":\"white\",\"linecolor\":\"white\",\"ticks\":\"\"}},\"ternary\":{\"bgcolor\":\"#E5ECF6\",\"aaxis\":{\"gridcolor\":\"white\",\"linecolor\":\"white\",\"ticks\":\"\"},\"baxis\":{\"gridcolor\":\"white\",\"linecolor\":\"white\",\"ticks\":\"\"},\"caxis\":{\"gridcolor\":\"white\",\"linecolor\":\"white\",\"ticks\":\"\"}},\"coloraxis\":{\"colorbar\":{\"outlinewidth\":0,\"ticks\":\"\"}},\"colorscale\":{\"sequential\":[[0.0,\"#0d0887\"],[0.1111111111111111,\"#46039f\"],[0.2222222222222222,\"#7201a8\"],[0.3333333333333333,\"#9c179e\"],[0.4444444444444444,\"#bd3786\"],[0.5555555555555556,\"#d8576b\"],[0.6666666666666666,\"#ed7953\"],[0.7777777777777778,\"#fb9f3a\"],[0.8888888888888888,\"#fdca26\"],[1.0,\"#f0f921\"]],\"sequentialminus\":[[0.0,\"#0d0887\"],[0.1111111111111111,\"#46039f\"],[0.2222222222222222,\"#7201a8\"],[0.3333333333333333,\"#9c179e\"],[0.4444444444444444,\"#bd3786\"],[0.5555555555555556,\"#d8576b\"],[0.6666666666666666,\"#ed7953\"],[0.7777777777777778,\"#fb9f3a\"],[0.8888888888888888,\"#fdca26\"],[1.0,\"#f0f921\"]],\"diverging\":[[0,\"#8e0152\"],[0.1,\"#c51b7d\"],[0.2,\"#de77ae\"],[0.3,\"#f1b6da\"],[0.4,\"#fde0ef\"],[0.5,\"#f7f7f7\"],[0.6,\"#e6f5d0\"],[0.7,\"#b8e186\"],[0.8,\"#7fbc41\"],[0.9,\"#4d9221\"],[1,\"#276419\"]]},\"xaxis\":{\"gridcolor\":\"white\",\"linecolor\":\"white\",\"ticks\":\"\",\"title\":{\"standoff\":15},\"zerolinecolor\":\"white\",\"automargin\":true,\"zerolinewidth\":2},\"yaxis\":{\"gridcolor\":\"white\",\"linecolor\":\"white\",\"ticks\":\"\",\"title\":{\"standoff\":15},\"zerolinecolor\":\"white\",\"automargin\":true,\"zerolinewidth\":2},\"scene\":{\"xaxis\":{\"backgroundcolor\":\"#E5ECF6\",\"gridcolor\":\"white\",\"linecolor\":\"white\",\"showbackground\":true,\"ticks\":\"\",\"zerolinecolor\":\"white\",\"gridwidth\":2},\"yaxis\":{\"backgroundcolor\":\"#E5ECF6\",\"gridcolor\":\"white\",\"linecolor\":\"white\",\"showbackground\":true,\"ticks\":\"\",\"zerolinecolor\":\"white\",\"gridwidth\":2},\"zaxis\":{\"backgroundcolor\":\"#E5ECF6\",\"gridcolor\":\"white\",\"linecolor\":\"white\",\"showbackground\":true,\"ticks\":\"\",\"zerolinecolor\":\"white\",\"gridwidth\":2}},\"shapedefaults\":{\"line\":{\"color\":\"#2a3f5f\"}},\"annotationdefaults\":{\"arrowcolor\":\"#2a3f5f\",\"arrowhead\":0,\"arrowwidth\":1},\"geo\":{\"bgcolor\":\"white\",\"landcolor\":\"#E5ECF6\",\"subunitcolor\":\"white\",\"showland\":true,\"showlakes\":true,\"lakecolor\":\"white\"},\"title\":{\"x\":0.05},\"mapbox\":{\"style\":\"light\"}}},\"scene\":{\"domain\":{\"x\":[0.0,1.0],\"y\":[0.0,1.0]},\"xaxis\":{\"title\":{\"text\":\"x\"}},\"yaxis\":{\"title\":{\"text\":\"y\"}},\"zaxis\":{\"title\":{\"text\":\"z\"}}},\"legend\":{\"tracegroupgap\":0},\"margin\":{\"t\":60}},                        {\"responsive\": true}                    ).then(function(){\n",
              "                            \n",
              "var gd = document.getElementById('30af373b-b87b-45c8-b440-0d544451ee52');\n",
              "var x = new MutationObserver(function (mutations, observer) {{\n",
              "        var display = window.getComputedStyle(gd).display;\n",
              "        if (!display || display === 'none') {{\n",
              "            console.log([gd, 'removed!']);\n",
              "            Plotly.purge(gd);\n",
              "            observer.disconnect();\n",
              "        }}\n",
              "}});\n",
              "\n",
              "// Listen for the removal of the full notebook cells\n",
              "var notebookContainer = gd.closest('#notebook-container');\n",
              "if (notebookContainer) {{\n",
              "    x.observe(notebookContainer, {childList: true});\n",
              "}}\n",
              "\n",
              "// Listen for the clearing of the current output cell\n",
              "var outputEl = gd.closest('.output');\n",
              "if (outputEl) {{\n",
              "    x.observe(outputEl, {childList: true});\n",
              "}}\n",
              "\n",
              "                        })                };                            </script>        </div>\n",
              "</body>\n",
              "</html>"
            ]
          },
          "metadata": {}
        }
      ]
    },
    {
      "cell_type": "markdown",
      "source": [
        "En el gráfico encontramos otras relaciones que hacen sentido, como \"Lydia\"con \"hija\", o \"padre\", \"amigo\" e \"hijo\" a la misma altura. \"Mujer\" y \"hemana\" también están paralelas en un eje."
      ],
      "metadata": {
        "id": "yM_BM6NIvJlp"
      }
    }
  ],
  "metadata": {
    "colab": {
      "provenance": [],
      "include_colab_link": true
    },
    "kernelspec": {
      "display_name": "Python 3 (ipykernel)",
      "language": "python",
      "name": "python3"
    },
    "language_info": {
      "codemirror_mode": {
        "name": "ipython",
        "version": 3
      },
      "file_extension": ".py",
      "mimetype": "text/x-python",
      "name": "python",
      "nbconvert_exporter": "python",
      "pygments_lexer": "ipython3",
      "version": "3.10.6"
    }
  },
  "nbformat": 4,
  "nbformat_minor": 0
}